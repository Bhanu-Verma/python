{
 "cells": [
  {
   "cell_type": "code",
   "execution_count": 5,
   "metadata": {},
   "outputs": [
    {
     "name": "stdout",
     "output_type": "stream",
     "text": [
      "orginal string: nuldibajypadnkafccl\n",
      "modified string: nuldibajypad$kafccl\n"
     ]
    }
   ],
   "source": [
    "import random as rd\n",
    "def random_str_generate():\n",
    "    chars = \"abcdefghijklmnopqrstuvwxyz\"\n",
    "    ans = \"\"\n",
    "    for i in range(rd.randint(10,20)):\n",
    "        ans += rd.choice(chars)\n",
    "    \n",
    "    return ans\n",
    "\n",
    "s = random_str_generate()\n",
    "print(f\"orginal string: {s}\")\n",
    "ans = s[0] + s.replace(s[0],'$')[1:]\n",
    "print(f\"modified string: {ans}\")"
   ]
  },
  {
   "cell_type": "code",
   "execution_count": 6,
   "metadata": {},
   "outputs": [
    {
     "name": "stdout",
     "output_type": "stream",
     "text": [
      "abbceeffiijkoottvv\n"
     ]
    }
   ],
   "source": [
    "s2 = random_str_generate()\n",
    "print(''.join(sorted(s2)))"
   ]
  },
  {
   "cell_type": "code",
   "execution_count": 7,
   "metadata": {},
   "outputs": [
    {
     "name": "stdout",
     "output_type": "stream",
     "text": [
      "t    2\n",
      "h    2\n",
      "e    3\n",
      "u    2\n",
      "r    2\n",
      "o    4\n",
      "dtype: int64\n"
     ]
    }
   ],
   "source": [
    "import pandas as pd\n",
    "s = 'thequickbrownfoxjumpsoverthelazydog'\n",
    "ans = {}\n",
    "for char in s:\n",
    "    if s.count(char)>1 and char not in ans:\n",
    "        ans[char] = s.count(char)\n",
    "\n",
    "print(pd.Series(ans))"
   ]
  },
  {
   "cell_type": "code",
   "execution_count": 8,
   "metadata": {},
   "outputs": [
    {
     "name": "stdout",
     "output_type": "stream",
     "text": [
      "[4, 3, 10, 9, 12, 9]\n",
      "10,"
     ]
    }
   ],
   "source": [
    "input = ['0100','0011','1010','1001','1100','1001']\n",
    "int_input = [int(x,2) for x in input]\n",
    "print(int_input)\n",
    "for x in int_input:\n",
    "    if x%5==0:\n",
    "        print(x,end=',')"
   ]
  },
  {
   "cell_type": "code",
   "execution_count": 9,
   "metadata": {},
   "outputs": [
    {
     "name": "stdout",
     "output_type": "stream",
     "text": [
      "array('H', [1, 2, 3, 4, 5])\n",
      "array('H', [1, 18, 2, 3, 4, 5])\n"
     ]
    }
   ],
   "source": [
    "from array import array\n",
    "arr = array('H',[1,2,3,4,5])\n",
    "print(arr)\n",
    "\n",
    "arr.insert(1,18)\n",
    "print(arr)"
   ]
  },
  {
   "cell_type": "code",
   "execution_count": 10,
   "metadata": {},
   "outputs": [
    {
     "name": "stdout",
     "output_type": "stream",
     "text": [
      "5\n"
     ]
    }
   ],
   "source": [
    "brr = array('H',[1,2,1,1,1,3,4,52,6,7,1])\n",
    "print(brr.count(1))"
   ]
  },
  {
   "cell_type": "code",
   "execution_count": 11,
   "metadata": {},
   "outputs": [
    {
     "name": "stdout",
     "output_type": "stream",
     "text": [
      "array('H', [1, 2, 1, 1, 1, 3, 4, 52, 6, 1])\n"
     ]
    }
   ],
   "source": [
    "brr.pop(-2)\n",
    "print(brr)"
   ]
  },
  {
   "cell_type": "code",
   "execution_count": 12,
   "metadata": {},
   "outputs": [
    {
     "name": "stdout",
     "output_type": "stream",
     "text": [
      "[1, 2, 1, 1, 1, 3, 4, 52, 6, 1]\n"
     ]
    }
   ],
   "source": [
    "brr_list = list(brr)\n",
    "print(brr_list)"
   ]
  },
  {
   "cell_type": "code",
   "execution_count": 13,
   "metadata": {},
   "outputs": [
    {
     "name": "stdout",
     "output_type": "stream",
     "text": [
      "{('key1', 1)}\n"
     ]
    }
   ],
   "source": [
    "dict1 =  {'key1': 1, 'key2': 3, 'key3': 2}\n",
    "dict2 =  {'key1': 1, 'key2': 2}\n",
    "\n",
    "print(set(dict1.items()).intersection(set(dict2.items())))"
   ]
  },
  {
   "cell_type": "code",
   "execution_count": 14,
   "metadata": {},
   "outputs": [
    {
     "name": "stdout",
     "output_type": "stream",
     "text": [
      "[('item3', 24.5), ('item2', 15.1), (12.2, 'item1')]\n"
     ]
    }
   ],
   "source": [
    "def extra(t:tuple):\n",
    "    if isinstance(t[0],float):\n",
    "        return t[0]\n",
    "    else:\n",
    "        return t[1]\n",
    "    \n",
    "\n",
    "l =  [(12.20, 'item1'), ('item2', 15.10), ('item3', 24.5)]\n",
    "l.sort(key=extra,reverse=True)\n",
    "print(l)"
   ]
  },
  {
   "cell_type": "code",
   "execution_count": 15,
   "metadata": {},
   "outputs": [
    {
     "name": "stdout",
     "output_type": "stream",
     "text": [
      "[('',), ('a', 'b'), ('a', 'b', 'c'), 'd']\n"
     ]
    }
   ],
   "source": [
    "l =  [(), (), ('',), ('a', 'b'), ('a', 'b', 'c'), ('d')]\n",
    "print(list(x for x in l if x))"
   ]
  },
  {
   "cell_type": "code",
   "execution_count": 16,
   "metadata": {},
   "outputs": [
    {
     "name": "stdout",
     "output_type": "stream",
     "text": [
      "{2: 'w', 3: 'r'}\n"
     ]
    }
   ],
   "source": [
    "l = [(2, \"w\"),(3, \"r\")]\n",
    "dict1 = {x:y for x,y in l}\n",
    "print(dict1)"
   ]
  },
  {
   "cell_type": "code",
   "execution_count": 17,
   "metadata": {},
   "outputs": [
    {
     "name": "stdout",
     "output_type": "stream",
     "text": [
      "20\n"
     ]
    }
   ],
   "source": [
    "s = set({5,10,3,15,2,20})\n",
    "print(max(s))"
   ]
  },
  {
   "cell_type": "code",
   "execution_count": 18,
   "metadata": {},
   "outputs": [
    {
     "name": "stdout",
     "output_type": "stream",
     "text": [
      "Requirement already satisfied: fontstyle in c:\\users\\dev iit\\appdata\\local\\programs\\python\\python311\\lib\\site-packages (1.0.1.2)\n",
      "Requirement already satisfied: setuptools in c:\\users\\dev iit\\appdata\\local\\programs\\python\\python311\\lib\\site-packages (from fontstyle) (65.5.0)\n"
     ]
    },
    {
     "name": "stderr",
     "output_type": "stream",
     "text": [
      "\n",
      "[notice] A new release of pip available: 22.3.1 -> 23.1.2\n",
      "[notice] To update, run: python.exe -m pip install --upgrade pip\n"
     ]
    }
   ],
   "source": [
    "! pip install fontstyle\n",
    "\n"
   ]
  },
  {
   "cell_type": "code",
   "execution_count": 19,
   "metadata": {},
   "outputs": [
    {
     "name": "stdout",
     "output_type": "stream",
     "text": [
      "\u001b[1m\u001b[3m\u001b[4mHello world\u001b[0m\n"
     ]
    }
   ],
   "source": [
    "import fontstyle as fs\n",
    "\n",
    "print(fs.apply(\"Hello world\",'bold/italic/underline'))\n",
    "\n"
   ]
  },
  {
   "cell_type": "code",
   "execution_count": 20,
   "metadata": {},
   "outputs": [
    {
     "name": "stdout",
     "output_type": "stream",
     "text": [
      "('_abc', '_ast', '_bisect', '_blake2', '_codecs', '_codecs_cn', '_codecs_hk', '_codecs_iso2022', '_codecs_jp', '_codecs_kr', '_codecs_tw', '_collections', '_contextvars', '_csv', '_datetime', '_functools', '_heapq', '_imp', '_io', '_json', '_locale', '_lsprof', '_md5', '_multibytecodec', '_opcode', '_operator', '_pickle', '_random', '_sha1', '_sha256', '_sha3', '_sha512', '_signal', '_sre', '_stat', '_statistics', '_string', '_struct', '_symtable', '_thread', '_tokenize', '_tracemalloc', '_typing', '_warnings', '_weakref', '_winapi', '_xxsubinterpreters', 'array', 'atexit', 'audioop', 'binascii', 'builtins', 'cmath', 'errno', 'faulthandler', 'gc', 'itertools', 'marshal', 'math', 'mmap', 'msvcrt', 'nt', 'sys', 'time', 'winreg', 'xxsubtype', 'zlib')\n"
     ]
    }
   ],
   "source": [
    "import sys\n",
    "x = sys.builtin_module_names\n",
    "print(x)"
   ]
  },
  {
   "cell_type": "code",
   "execution_count": 21,
   "metadata": {},
   "outputs": [
    {
     "name": "stdout",
     "output_type": "stream",
     "text": [
      "52\n",
      "28\n"
     ]
    }
   ],
   "source": [
    "print(sys.getsizeof('one'))\n",
    "print(sys.getsizeof(1234))"
   ]
  },
  {
   "cell_type": "code",
   "execution_count": 22,
   "metadata": {},
   "outputs": [
    {
     "name": "stdout",
     "output_type": "stream",
     "text": [
      "2016-04-18\n"
     ]
    }
   ],
   "source": [
    "import datetime as dt\n",
    "import random as rd\n",
    "t = dt.timedelta(days=1)\n",
    "\n",
    "starting = dt.date(2016,1,1)\n",
    "ending = dt.date(2018,3,23)\n",
    "l = []\n",
    "\n",
    "x = ending - starting\n",
    "n = x.days\n",
    "\n",
    "for i in range(n):\n",
    "    l.append(starting+i*t)\n",
    "\n",
    "d = rd.choice(l)\n",
    "print(d)\n"
   ]
  },
  {
   "cell_type": "code",
   "execution_count": 23,
   "metadata": {},
   "outputs": [
    {
     "name": "stdout",
     "output_type": "stream",
     "text": [
      "3191\n"
     ]
    }
   ],
   "source": [
    "\n",
    "\n",
    "\n",
    "class convert:\n",
    "    def __call__(self,x):\n",
    "        return int(x,16)\n",
    "\n",
    "converter = convert()\n",
    "print(converter('C77'))"
   ]
  },
  {
   "cell_type": "code",
   "execution_count": 24,
   "metadata": {},
   "outputs": [
    {
     "name": "stdout",
     "output_type": "stream",
     "text": [
      "[1, 2]\n",
      "[3]\n"
     ]
    }
   ],
   "source": [
    "import pandas as pd\n",
    "dict1 = {\n",
    "    'key':[1,2],\n",
    "    'val':[3]\n",
    "}\n",
    "x = pd.Series(dict1)\n",
    "\n",
    "for i in x:\n",
    "    print(i)"
   ]
  },
  {
   "cell_type": "code",
   "execution_count": 25,
   "metadata": {},
   "outputs": [
    {
     "ename": "NameError",
     "evalue": "name 'df' is not defined",
     "output_type": "error",
     "traceback": [
      "\u001b[1;31m---------------------------------------------------------------------------\u001b[0m",
      "\u001b[1;31mNameError\u001b[0m                                 Traceback (most recent call last)",
      "Cell \u001b[1;32mIn[25], line 1\u001b[0m\n\u001b[1;32m----> 1\u001b[0m df\u001b[39m.\u001b[39mcolumns\n",
      "\u001b[1;31mNameError\u001b[0m: name 'df' is not defined"
     ]
    }
   ],
   "source": [
    "df.columns"
   ]
  },
  {
   "cell_type": "code",
   "execution_count": null,
   "metadata": {},
   "outputs": [],
   "source": []
  }
 ],
 "metadata": {
  "kernelspec": {
   "display_name": "Python 3",
   "language": "python",
   "name": "python3"
  },
  "language_info": {
   "codemirror_mode": {
    "name": "ipython",
    "version": 3
   },
   "file_extension": ".py",
   "mimetype": "text/x-python",
   "name": "python",
   "nbconvert_exporter": "python",
   "pygments_lexer": "ipython3",
   "version": "3.11.3"
  },
  "orig_nbformat": 4
 },
 "nbformat": 4,
 "nbformat_minor": 2
}
