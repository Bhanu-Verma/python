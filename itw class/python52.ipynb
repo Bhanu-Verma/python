{
  "cells": [
    {
      "cell_type": "markdown",
      "metadata": {
        "id": "6MU2jKJAVkF_"
      },
      "source": [
        "**What is NumPy?**<br>\n",
        "* NumPy is a Python library used for working with arrays.\n",
        "\n",
        "*   \n",
        "It also has functions for working in domain of linear algebra, and matrices.\n",
        "*   NumPy was created in 2005 by Travis Oliphant. It is an open source project and you can use it freely.\n",
        "\n",
        "* NumPy stands for Numerical Python.Numpy is a general-purpose array-processing package. <br><br>\n",
        "\n",
        "**Why Use NumPy?**<br>\n",
        "* In Python we have lists that serve the purpose of arrays, but they are slow to process.\n",
        "\n",
        "* NumPy aims to provide an array object that is up to 50x faster than traditional Python lists.\n",
        "\n",
        "* The array object in NumPy is called ndarray, it provides a lot of supporting functions that make working with ndarray very easy.\n",
        "\n",
        "* Arrays are very frequently used in data science, where speed and resources are very important.\n",
        "It is the fundamental package for scientific computing with Python.<br><br>\n",
        "\n",
        "**Why is NumPy Faster Than Lists?**<br>\n",
        "* NumPy arrays are stored at one continuous place in memory unlike lists, so processes can access and manipulate them very efficiently.\n",
        "\n",
        "* This behavior is called locality of reference in computer science.\n",
        "\n",
        "* This is the main reason why NumPy is faster than lists. Also it is optimized to work with latest CPU architectures.<br><br>\n",
        "\n",
        "**Which Language is NumPy written in?**<br>\n",
        "NumPy is a Python library and is written partially in Python, but most of the parts that require fast computation are written in C or C++.\n",
        "\n",
        "\n"
      ]
    },
    {
      "cell_type": "code",
      "execution_count": null,
      "metadata": {
        "colab": {
          "base_uri": "https://localhost:8080/"
        },
        "id": "je-dZ0IAQNgD",
        "outputId": "7fef445e-441b-425f-b688-0d26e9a2835a"
      },
      "outputs": [],
      "source": []
    },
    {
      "cell_type": "markdown",
      "metadata": {
        "id": "sdASmILFv7Td"
      },
      "source": [
        "**NumPy as np**<br>\n",
        "NumPy is usually imported under the np alias.\n",
        "\n",
        "**Create a NumPy ndarray Object**<br>\n",
        "NumPy is used to work with arrays. The array object in NumPy is called ndarray.\n",
        "\n",
        "We can create a NumPy ndarray object by using the array() function.<br>\n",
        "\n",
        "                      \n",
        "    asarray(a[, dtype, order])     # Convert the input to an array<br>\n",
        "    Constants:\n",
        "        ndarray.shape        #tuple of array dimensions\n",
        "        ndarray.size         #number of elements in array\n",
        "        ndarray.itemsize     #size of one element\n",
        "        ndarray.dtype        #data type of elements\n",
        "        ndarray.flat         #1D iterator over elements of array\n",
        "    Common Functions\n",
        "        np.tolist()          #Return the array as a (possibly nested) list.\n",
        "        np.reshape(a, (3,2)) #Returns an array containing the same data with a new shape.\n",
        "        np.swapaxes(axis1, axis2) #Return a view of the array with axis1 and axis2 interchanged.\n",
        "        np.copy()            #Return a copy of the array.\n",
        "        np.arange()          #Return evenly spaced values within a given interval.\n",
        "    Statistics Functions:\n",
        "        np.sum(a, axis)     #Sum of array elements over a given axis.\n",
        "        np.prod             #Return the product of array elements over a given axis.\n",
        "        np.min              #Return the minimum along a given axis.\n",
        "        np.max              #Return the maximum along a given axis.\n",
        "        np.mean             #Compute the arithmetic mean along the specified axis.\n",
        "        np.std              #Compute the standard deviation along the specified axis. \n",
        "\tnp.var              #Compute the variance along the specified axis.\n",
        "        np.sort(axis)       #Return a sorted copy of an array.\n",
        "\tOther Functions:\n",
        "\t\tString operations #A set of vectorized string operations for arrays. \n",
        "\t\tlogical operations # AND, OR, XOR, NOT, >, <, =, ...\n",
        "\t\tTrigonometric functions #sin, cos, tan, etc.\n",
        "\t\tcomplex numbers    #(real + imaginary)\n",
        "\t\tpolynomials #Polynomials in NumPy can be created, manipulated, and even fitted.\n",
        "\n",
        "> Indented block\n"
      ]
    },
    {
      "cell_type": "markdown",
      "metadata": {
        "id": "0Gek3MKswI_T"
      },
      "source": [
        "**Checking NumPy Version**<br>\n",
        "The version string is stored under __version__ attribute."
      ]
    },
    {
      "cell_type": "code",
      "execution_count": 2,
      "metadata": {
        "colab": {
          "base_uri": "https://localhost:8080/"
        },
        "id": "mwjHDlJRwQWu",
        "outputId": "70b04da8-3067-43a2-e7f1-5c25c4549e1d"
      },
      "outputs": [
        {
          "name": "stdout",
          "output_type": "stream",
          "text": [
            "1.24.3\n"
          ]
        }
      ],
      "source": [
        "import numpy as np\n",
        "\n",
        "print(np.__version__)"
      ]
    },
    {
      "cell_type": "code",
      "execution_count": 10,
      "metadata": {},
      "outputs": [
        {
          "name": "stdout",
          "output_type": "stream",
          "text": [
            "[[1.46390337e+00 1.11022302e-15]\n",
            " [0.00000000e+00 9.15360966e+01]]\n",
            "[ 1.46390337 91.53609663]\n"
          ]
        }
      ],
      "source": [
        "\n",
        "\n",
        "a = np.array([\n",
        "    [2,4],\n",
        "    [12,91]\n",
        "])\n",
        "\n",
        "eigenvals, eignenvectors = np.linalg.eig(a)\n",
        "\n",
        "b = eignenvectors\n",
        "b_inv = np.linalg.inv(b)\n",
        "\n",
        "print(b_inv @ a @ b)\n",
        "print(eigenvals)\n",
        "\n",
        "np.matmul"
      ]
    },
    {
      "cell_type": "code",
      "execution_count": 19,
      "metadata": {
        "colab": {
          "base_uri": "https://localhost:8080/"
        },
        "id": "nM7C2PeUVkGE",
        "outputId": "e4452868-a5d5-41b8-acc6-24a4a66bc4c8"
      },
      "outputs": [
        {
          "name": "stdout",
          "output_type": "stream",
          "text": [
            "[0 1 2 3 4 5]\n"
          ]
        }
      ],
      "source": [
        "import numpy as np   #import the entire numpy module with a short name as np \n",
        "x = [0,1,2,3,4,5]\n",
        "a = np.array(x)    #multidimensional container of items of the same type and size.\n",
        "print(a)   # Output: [0 1 2 3 4 5]"
      ]
    },
    {
      "cell_type": "code",
      "execution_count": 20,
      "metadata": {
        "colab": {
          "base_uri": "https://localhost:8080/"
        },
        "id": "6l_H4WLHVkGH",
        "outputId": "960e1e86-1353-4054-8705-8b3c53a91b91"
      },
      "outputs": [
        {
          "name": "stdout",
          "output_type": "stream",
          "text": [
            "2\n",
            "[1 3]\n",
            "[3 4 5]\n",
            "[0 1 2]\n",
            "(6,)\n",
            "6\n",
            "4\n",
            "int32\n"
          ]
        }
      ],
      "source": [
        "# index: \n",
        "print(a[2])  # Output: 2\n",
        "#indexing with N integers returns an array scalar representing the corresponding item.\n",
        "# slice:\ta[start:stop:step]\n",
        "print(a[1:4:2])  #Output: array([1, 3])\n",
        "print(a[3:]) #Output: array([3, 4, 5])\n",
        "print(a[:3])     #Output: array([0, 1, 2])\n",
        "print(a.shape )          #Output: (6,)\n",
        "print(a.size )           #Output: 6\n",
        "print(a.itemsize )       #Output: 8  # 64/8 = 8, here 64 comes from dtype. And 8 bits = 1 byte.\n",
        "print(a.dtype)           #Output: dtype('int64')"
      ]
    },
    {
      "cell_type": "code",
      "execution_count": 21,
      "metadata": {
        "colab": {
          "base_uri": "https://localhost:8080/"
        },
        "id": "ic8G1KlqVkGH",
        "outputId": "9143afd5-5fe8-40de-ee7b-09ee9dfa6a66"
      },
      "outputs": [
        {
          "name": "stdout",
          "output_type": "stream",
          "text": [
            "[[1 2 3]\n",
            " [4 5 6]]\n"
          ]
        }
      ],
      "source": [
        "b = np.array([[1,2,3], [4,5,6]])\n",
        "print(b)\n",
        " \n",
        "# Output: array([[1, 2, 3],\n",
        "#                [4, 5, 6]])"
      ]
    },
    {
      "cell_type": "code",
      "execution_count": 22,
      "metadata": {
        "colab": {
          "base_uri": "https://localhost:8080/"
        },
        "id": "PIKgpmZPVkGI",
        "outputId": "e63a8b98-42c7-4440-b9cd-0df49e23e46e"
      },
      "outputs": [
        {
          "data": {
            "text/plain": [
              "array([[1, 4],\n",
              "       [2, 5],\n",
              "       [3, 6]])"
            ]
          },
          "execution_count": 22,
          "metadata": {},
          "output_type": "execute_result"
        }
      ],
      "source": [
        "b.swapaxes(0,1)\n",
        "# Output: array([[1, 4],\n",
        "#                [2, 5],\n",
        "#                [3, 6]])"
      ]
    },
    {
      "cell_type": "code",
      "execution_count": 23,
      "metadata": {
        "colab": {
          "base_uri": "https://localhost:8080/"
        },
        "id": "SWtWR2ZVVkGK",
        "outputId": "915d20b0-99f5-4ad2-f47a-44b2f7cc69b7"
      },
      "outputs": [
        {
          "name": "stdout",
          "output_type": "stream",
          "text": [
            "[0 1 2 3 4 5]\n"
          ]
        }
      ],
      "source": [
        "a = np.arange(0,6)  #Output: array([0, 1, 2, 3, 4, 5])\n",
        "print(a)"
      ]
    },
    {
      "cell_type": "code",
      "execution_count": 24,
      "metadata": {
        "colab": {
          "base_uri": "https://localhost:8080/"
        },
        "id": "AcM199CNVkGK",
        "outputId": "73f6c633-59ee-417b-aad7-47446a654706"
      },
      "outputs": [
        {
          "name": "stdout",
          "output_type": "stream",
          "text": [
            "[[0 1 2]\n",
            " [3 4 5]]\n"
          ]
        }
      ],
      "source": [
        "a = np.arange(0,6).reshape(2,3)\n",
        "print(a)\n",
        "# Output: array([[0, 1, 2],\n",
        "#                [3, 4, 5]])\n"
      ]
    },
    {
      "cell_type": "code",
      "execution_count": 25,
      "metadata": {
        "colab": {
          "base_uri": "https://localhost:8080/"
        },
        "id": "NSrwysLrVkGL",
        "outputId": "27086b58-0069-493a-e9a8-c25cbc920e3e"
      },
      "outputs": [
        {
          "name": "stdout",
          "output_type": "stream",
          "text": [
            "[2 3 4]\n"
          ]
        }
      ],
      "source": [
        "import numpy as np\n",
        "a = np.array([2,3,4])\n",
        "print(a)"
      ]
    },
    {
      "cell_type": "code",
      "execution_count": 26,
      "metadata": {
        "colab": {
          "base_uri": "https://localhost:8080/"
        },
        "id": "ycUtW0l9VkGL",
        "outputId": "2219811a-003a-4ceb-867e-44fde6146ef4"
      },
      "outputs": [
        {
          "name": "stdout",
          "output_type": "stream",
          "text": [
            "[ 1  3  5  7  9 11]\n"
          ]
        }
      ],
      "source": [
        "a = np.arange(1, 12, 2)\t\t# (from, to, step)\n",
        "print(a) #Output: array([ 1,  3,  5,  7,  9, 11])"
      ]
    },
    {
      "cell_type": "code",
      "execution_count": 27,
      "metadata": {
        "colab": {
          "base_uri": "https://localhost:8080/"
        },
        "id": "JE-ext4CVkGL",
        "outputId": "6b94dacb-0965-4481-c93a-de27b7fcf8c7"
      },
      "outputs": [
        {
          "name": "stdout",
          "output_type": "stream",
          "text": [
            "[ 1.   3.2  5.4  7.6  9.8 12. ]\n"
          ]
        }
      ],
      "source": [
        "a = np.linspace(1, 12, 6)\t# (first, last, num_elements) float data type\n",
        "print(a) #Output: array([  1. ,   3.2,   5.4,   7.6,   9.8,  12. ])"
      ]
    },
    {
      "cell_type": "code",
      "execution_count": 28,
      "metadata": {
        "colab": {
          "base_uri": "https://localhost:8080/"
        },
        "id": "xkd61GpkVkGM",
        "outputId": "dadec92f-78ac-4d70-c2ad-78eb6621690e"
      },
      "outputs": [
        {
          "name": "stdout",
          "output_type": "stream",
          "text": [
            "[[ 1.   3.2]\n",
            " [ 5.4  7.6]\n",
            " [ 9.8 12. ]]\n"
          ]
        }
      ],
      "source": [
        "a.reshape(3,2)\n",
        "a = a.reshape(3,2)\n",
        "print(a) \n",
        "# Output: array([[  1. ,   3.2],\n",
        "#                [  5.4,   7.6],\n",
        "#                [  9.8,  12. ]])\n",
        "  # 6"
      ]
    },
    {
      "cell_type": "code",
      "execution_count": 29,
      "metadata": {
        "colab": {
          "base_uri": "https://localhost:8080/"
        },
        "id": "SNoRPel9ffpM",
        "outputId": "0cb72699-c1cb-4c2b-df19-183e10767ffb"
      },
      "outputs": [
        {
          "data": {
            "text/plain": [
              "6"
            ]
          },
          "execution_count": 29,
          "metadata": {},
          "output_type": "execute_result"
        }
      ],
      "source": [
        "a.size "
      ]
    },
    {
      "cell_type": "code",
      "execution_count": 30,
      "metadata": {
        "colab": {
          "base_uri": "https://localhost:8080/"
        },
        "id": "SGMJJ2wLVkGM",
        "outputId": "e2ca6803-ba20-4de7-c5d9-515223a86b15"
      },
      "outputs": [
        {
          "data": {
            "text/plain": [
              "(3, 2)"
            ]
          },
          "execution_count": 30,
          "metadata": {},
          "output_type": "execute_result"
        }
      ],
      "source": [
        "a.shape  # (6,)"
      ]
    },
    {
      "cell_type": "code",
      "execution_count": 31,
      "metadata": {
        "colab": {
          "base_uri": "https://localhost:8080/"
        },
        "id": "QPDdTICKVkGM",
        "outputId": "c6f06cf4-2c5d-4d03-8891-cf14fc3653d7"
      },
      "outputs": [
        {
          "data": {
            "text/plain": [
              "dtype('float64')"
            ]
          },
          "execution_count": 31,
          "metadata": {},
          "output_type": "execute_result"
        }
      ],
      "source": [
        "a.dtype  # dtype('float64')"
      ]
    },
    {
      "cell_type": "code",
      "execution_count": 32,
      "metadata": {
        "colab": {
          "base_uri": "https://localhost:8080/"
        },
        "id": "28dXs3nzVkGN",
        "outputId": "5ccfacc9-eca0-4ee8-dd8d-86734ea767ff"
      },
      "outputs": [
        {
          "data": {
            "text/plain": [
              "8"
            ]
          },
          "execution_count": 32,
          "metadata": {},
          "output_type": "execute_result"
        }
      ],
      "source": [
        "a.itemsize  # 8"
      ]
    },
    {
      "cell_type": "markdown",
      "metadata": {
        "id": "aVz-FgaRVkGN"
      },
      "source": [
        "this works:"
      ]
    },
    {
      "cell_type": "code",
      "execution_count": 33,
      "metadata": {
        "colab": {
          "base_uri": "https://localhost:8080/"
        },
        "id": "NOH8kZY1VkGN",
        "outputId": "392c5810-7747-4a20-fa56-0601a94c52a0"
      },
      "outputs": [
        {
          "name": "stdout",
          "output_type": "stream",
          "text": [
            "[[1.5 2.  3. ]\n",
            " [4.  5.  6. ]]\n"
          ]
        }
      ],
      "source": [
        "b = np.array([(1.5,2,3), (4,5,6)])\n",
        "print(b)\n",
        "# Output:[[ 1.5  2.   3. ]\n",
        "#         [ 4.   5.   6. ]] "
      ]
    },
    {
      "cell_type": "markdown",
      "metadata": {
        "id": "Td0M0S-IVkGN"
      },
      "source": [
        "but this does not work:"
      ]
    },
    {
      "cell_type": "code",
      "execution_count": 34,
      "metadata": {
        "colab": {
          "base_uri": "https://localhost:8080/",
          "height": 184
        },
        "id": "kkkzthqiVkGN",
        "outputId": "f16988c8-1c16-4b9e-eb3e-0f48b3835670"
      },
      "outputs": [],
      "source": [
        "# b = np.array(1,2,3)\t\t# square brackets are required\n",
        "# print(b)"
      ]
    },
    {
      "cell_type": "code",
      "execution_count": 35,
      "metadata": {
        "colab": {
          "base_uri": "https://localhost:8080/"
        },
        "id": "RJHPtvtQVkGN",
        "outputId": "ed1be307-dcce-4399-efa7-a5917e266545"
      },
      "outputs": [
        {
          "name": "stdout",
          "output_type": "stream",
          "text": [
            "[[0 1 2]\n",
            " [3 4 5]]\n"
          ]
        }
      ],
      "source": [
        "import numpy as np\n",
        "a = np.arange(0,6).reshape(2,3)\n",
        "print(a)\n",
        "# Output: array([[0, 1, 2],\n",
        "#                [3, 4, 5]])"
      ]
    },
    {
      "cell_type": "code",
      "execution_count": 36,
      "metadata": {
        "colab": {
          "base_uri": "https://localhost:8080/"
        },
        "id": "OIlYVcb1VkGO",
        "outputId": "8c8ed2a4-39c7-433a-ddba-fe9b040d1e65"
      },
      "outputs": [
        {
          "name": "stdout",
          "output_type": "stream",
          "text": [
            "[[ True  True  True]\n",
            " [ True False False]]\n"
          ]
        }
      ],
      "source": [
        "print(a < 4)\t\t\t\t# prints True/False\n",
        "# Output: [[ True  True  True]\n",
        "#          [ True False False]]\n",
        "\n"
      ]
    },
    {
      "cell_type": "code",
      "execution_count": 37,
      "metadata": {
        "colab": {
          "base_uri": "https://localhost:8080/"
        },
        "id": "WJT-ksUDf_Si",
        "outputId": "72e04781-4eb1-4643-a617-e82d3775d359"
      },
      "outputs": [
        {
          "name": "stdout",
          "output_type": "stream",
          "text": [
            "[[ 0  3  6]\n",
            " [ 9 12 15]]\n"
          ]
        }
      ],
      "source": [
        "a * 3\t\t\t\t\t# multiplies each element by 3\n",
        "a *= 3\t\t\t\t\t# saves result to a\n",
        "print(a)\n",
        "# Output: array([[ 0,  3,  6],\n",
        "#                [ 9, 12, 15]])"
      ]
    },
    {
      "cell_type": "code",
      "execution_count": 38,
      "metadata": {
        "colab": {
          "base_uri": "https://localhost:8080/"
        },
        "id": "3td7qEdUgCXB",
        "outputId": "6ff95ae1-bf19-41f5-fe73-a2a0f9e86312"
      },
      "outputs": [
        {
          "name": "stdout",
          "output_type": "stream",
          "text": [
            "[[0. 0. 0. 0.]\n",
            " [0. 0. 0. 0.]\n",
            " [0. 0. 0. 0.]]\n"
          ]
        }
      ],
      "source": [
        "a = np.zeros((3,4))\n",
        "print(a)\n",
        "# Output: array([[ 0.,  0.,  0.,  0.],\n",
        "#                [ 0.,  0.,  0.,  0.],\n",
        "#                [ 0.,  0.,  0.,  0.]])"
      ]
    },
    {
      "cell_type": "code",
      "execution_count": 39,
      "metadata": {
        "colab": {
          "base_uri": "https://localhost:8080/"
        },
        "id": "k5o4eNL3gD-u",
        "outputId": "340727e4-0cd0-428d-ef3b-198da6807e4e"
      },
      "outputs": [
        {
          "name": "stdout",
          "output_type": "stream",
          "text": [
            "[[1. 1. 1.]\n",
            " [1. 1. 1.]]\n"
          ]
        }
      ],
      "source": [
        "a = np.ones((2,3))\n",
        "print(a)\n",
        "# Output: array([[ 1.,  1.,  1.],\n",
        "#                [ 1.,  1.,  1.]])"
      ]
    },
    {
      "cell_type": "code",
      "execution_count": 40,
      "metadata": {
        "colab": {
          "base_uri": "https://localhost:8080/"
        },
        "id": "2ODJOxoSVkGO",
        "outputId": "005e2e9f-6d55-41d4-81c5-68773bfae446"
      },
      "outputs": [
        {
          "name": "stdout",
          "output_type": "stream",
          "text": [
            "[[0.43902121 0.66482962 0.75521345]\n",
            " [0.63718192 0.37977523 0.9541147 ]]\n"
          ]
        }
      ],
      "source": [
        "a = np.random.random((2,3))\n",
        "print(a)\n",
        "# Output: array([[ 0.01597309,  0.57744167,  0.8222098 ],\n",
        "#                [ 0.50195045,  0.70745541,  0.73827131]])"
      ]
    },
    {
      "cell_type": "code",
      "execution_count": 41,
      "metadata": {
        "colab": {
          "base_uri": "https://localhost:8080/"
        },
        "id": "otWwa3PzVkGO",
        "outputId": "6e4054d3-59cc-4492-ebff-f3ff12eb2d28"
      },
      "outputs": [
        {
          "name": "stdout",
          "output_type": "stream",
          "text": [
            "[[0.44 0.66 0.76]\n",
            " [0.64 0.38 0.95]]\n"
          ]
        }
      ],
      "source": [
        "#MUST READ ------\n",
        "\n",
        "\n",
        "np.set_printoptions(precision=2) # show 2 decimal places\n",
        "print(a)\n",
        "# Output: array([[ 0.02,  0.58,  0.82],\n",
        "#                [ 0.5 ,  0.71,  0.74]])"
      ]
    },
    {
      "cell_type": "code",
      "execution_count": 42,
      "metadata": {
        "colab": {
          "base_uri": "https://localhost:8080/"
        },
        "id": "q177e6kIVkGO",
        "outputId": "7bded115-42f4-4bc7-a802-d871bcea78db"
      },
      "outputs": [
        {
          "name": "stdout",
          "output_type": "stream",
          "text": [
            "[4 5 3 0 2]\n"
          ]
        }
      ],
      "source": [
        "a = np.random.randint(0,10,5)\n",
        "print(a)\n",
        "# Output: array([6, 5, 7, 0, 0])"
      ]
    },
    {
      "cell_type": "code",
      "execution_count": 43,
      "metadata": {
        "colab": {
          "base_uri": "https://localhost:8080/"
        },
        "id": "0lZCrstOkFlA",
        "outputId": "7950c289-9861-4d26-a58a-7462fa897f33"
      },
      "outputs": [
        {
          "name": "stdout",
          "output_type": "stream",
          "text": [
            "[[0 1 2]\n",
            " [3 4 5]]\n"
          ]
        },
        {
          "data": {
            "text/plain": [
              "1.707825127659933"
            ]
          },
          "execution_count": 43,
          "metadata": {},
          "output_type": "execute_result"
        }
      ],
      "source": [
        "import numpy as np\n",
        "a = np.arange(0,6).reshape(2,3)\n",
        "print(a)\n",
        "# Output: array([[0, 1, 2],\n",
        "#                [3, 4, 5]])\n",
        "a.sum()   # 15\n",
        "a.min()   # 0\n",
        "a.max()   # 5\n",
        "a.mean()  # 2.5\n",
        "a.var()\t  # 2.9166666666666665\t# variance\n",
        "a.std()\t  # 1.707825127659933\t# standard deviation"
      ]
    },
    {
      "cell_type": "code",
      "execution_count": 44,
      "metadata": {
        "colab": {
          "base_uri": "https://localhost:8080/"
        },
        "id": "MD6rlWPCVkGO",
        "outputId": "85f7a1ab-e0b2-43d8-8ba3-2141948c8b78"
      },
      "outputs": [
        {
          "data": {
            "text/plain": [
              "array([ 3, 12])"
            ]
          },
          "execution_count": 44,
          "metadata": {},
          "output_type": "execute_result"
        }
      ],
      "source": [
        "a.sum(axis=1)  # array([ 3, 12])"
      ]
    },
    {
      "cell_type": "code",
      "execution_count": 45,
      "metadata": {
        "colab": {
          "base_uri": "https://localhost:8080/"
        },
        "id": "gDa7puqZkZ2J",
        "outputId": "694ae025-7232-42d9-a7fa-0d89fcca262d"
      },
      "outputs": [
        {
          "data": {
            "text/plain": [
              "array([3, 5, 7])"
            ]
          },
          "execution_count": 45,
          "metadata": {},
          "output_type": "execute_result"
        }
      ],
      "source": [
        "a.sum(axis=0)  # array([3, 5, 7])"
      ]
    },
    {
      "cell_type": "code",
      "execution_count": 46,
      "metadata": {
        "colab": {
          "base_uri": "https://localhost:8080/"
        },
        "id": "kfTfI5aUVkGO",
        "outputId": "bdce1a86-d6e9-4eea-8800-bd65a0154e1b"
      },
      "outputs": [
        {
          "data": {
            "text/plain": [
              "0"
            ]
          },
          "execution_count": 46,
          "metadata": {},
          "output_type": "execute_result"
        }
      ],
      "source": [
        "#The argmin function in NumPy returns the indices of the minimum values along a specified axis or the flattened array\n",
        "\n",
        "a.argmin()  # 0\t\t# index of min element\t\n",
        "\n"
      ]
    },
    {
      "cell_type": "code",
      "execution_count": 47,
      "metadata": {
        "colab": {
          "base_uri": "https://localhost:8080/"
        },
        "id": "WWjX38DBlTbB",
        "outputId": "6ea1872f-040b-4d48-f8f5-78a75062b54d"
      },
      "outputs": [
        {
          "data": {
            "text/plain": [
              "array([[0, 1, 2],\n",
              "       [0, 1, 2]], dtype=int64)"
            ]
          },
          "execution_count": 47,
          "metadata": {},
          "output_type": "execute_result"
        }
      ],
      "source": [
        "#The argsort function in NumPy returns the indices that would sort an array along a specified axis or the flattened array\n",
        "\n",
        "a.argsort() \n",
        "# Output: array([[0, 1, 2],\n",
        "#                [0, 1, 2]]) # returns array of indices that would put the array in sorted order"
      ]
    },
    {
      "cell_type": "code",
      "execution_count": 13,
      "metadata": {
        "colab": {
          "base_uri": "https://localhost:8080/"
        },
        "id": "8crrnQ5OlI7n",
        "outputId": "d9b5ed22-82f7-49fa-9d3c-11a35556f992"
      },
      "outputs": [
        {
          "data": {
            "text/plain": [
              "array([3.22, 1.21, 2.42])"
            ]
          },
          "execution_count": 13,
          "metadata": {},
          "output_type": "execute_result"
        }
      ],
      "source": [
        "a.argmax()  # 5\t\t# index of max element\n",
        "\n",
        "a = np.array([3.222,1.209,2.423232])\n",
        "np.around(a,2)"
      ]
    },
    {
      "cell_type": "code",
      "execution_count": 18,
      "metadata": {},
      "outputs": [
        {
          "data": {
            "text/plain": [
              "0.5235987755982988"
            ]
          },
          "execution_count": 18,
          "metadata": {},
          "output_type": "execute_result"
        }
      ],
      "source": [
        "np.deg2rad(30)"
      ]
    },
    {
      "cell_type": "code",
      "execution_count": 49,
      "metadata": {
        "colab": {
          "base_uri": "https://localhost:8080/"
        },
        "id": "1QjckQL4lB9R",
        "outputId": "c5e2f678-9618-4d11-f4a2-bcaec4384584"
      },
      "outputs": [
        {
          "data": {
            "text/plain": [
              "array([ 4,  9, 16])"
            ]
          },
          "execution_count": 49,
          "metadata": {},
          "output_type": "execute_result"
        }
      ],
      "source": [
        "a = np.arange(10)**2 #Output: array([ 0,  1,  4,  9, 16, 25, 36, 49, 64, 81])\n",
        "a[2:5]  #Output: array([ 4,  9, 16])"
      ]
    },
    {
      "cell_type": "code",
      "execution_count": 50,
      "metadata": {
        "colab": {
          "base_uri": "https://localhost:8080/"
        },
        "id": "Rq-f59vuVkGP",
        "outputId": "b70c5765-f097-43f8-8c92-42dd228a93f3"
      },
      "outputs": [
        {
          "name": "stdout",
          "output_type": "stream",
          "text": [
            "0\n",
            "1\n",
            "16\n",
            "81\n",
            "256\n",
            "625\n",
            "1296\n",
            "2401\n",
            "4096\n",
            "6561\n"
          ]
        }
      ],
      "source": [
        "for i in a:\n",
        "\tprint (i ** 2)\n",
        "# Output:\n",
        "# 0\n",
        "# 1\n",
        "# 16\n",
        "# 81\n",
        "# 256\n",
        "# 625\n",
        "# 1296\n",
        "# 2401\n",
        "# 4096\n",
        "# 6561"
      ]
    },
    {
      "cell_type": "code",
      "execution_count": 51,
      "metadata": {
        "colab": {
          "base_uri": "https://localhost:8080/"
        },
        "id": "GGfheOU-lge5",
        "outputId": "e531fad8-742b-4503-fd2c-7c3d5d3a732d"
      },
      "outputs": [
        {
          "name": "stdout",
          "output_type": "stream",
          "text": [
            "[ 0  1  4  9 16 25 36 49 64 81]\n"
          ]
        }
      ],
      "source": [
        "import numpy as np\n",
        "a = np.arange(10)**2 #Output: array([ 0,  1,  4,  9, 16, 25, 36, 49, 64, 81])\n",
        "print(a)"
      ]
    },
    {
      "cell_type": "code",
      "execution_count": 52,
      "metadata": {
        "colab": {
          "base_uri": "https://localhost:8080/"
        },
        "id": "8xKdLMjRlny3",
        "outputId": "bf05f066-21e6-42ca-cf6d-a62246e2efe9"
      },
      "outputs": [
        {
          "data": {
            "text/plain": [
              "array([81, 64, 49, 36, 25, 16,  9,  4,  1,  0])"
            ]
          },
          "execution_count": 52,
          "metadata": {},
          "output_type": "execute_result"
        }
      ],
      "source": [
        "a[::-1]\t# reverses array. Output: array([81, 64, 49, 36, 25, 16,  9,  4,  1,  0])"
      ]
    },
    {
      "cell_type": "code",
      "execution_count": 53,
      "metadata": {
        "colab": {
          "base_uri": "https://localhost:8080/"
        },
        "id": "lAanqjw5VkGP",
        "outputId": "812ed36b-213f-4e28-8c88-b32c9871e3c5"
      },
      "outputs": [
        {
          "name": "stdout",
          "output_type": "stream",
          "text": [
            "[[0 1 2]\n",
            " [3 4 5]]\n"
          ]
        }
      ],
      "source": [
        "import numpy as np\n",
        "a = np.arange(0,6).reshape(2,3)\n",
        "# Output: array([[0, 1, 2],\n",
        "#                [3, 4, 5]])\n",
        "print(a)"
      ]
    },
    {
      "cell_type": "code",
      "execution_count": 54,
      "metadata": {
        "colab": {
          "base_uri": "https://localhost:8080/"
        },
        "id": "8uIhl0tRl3Ix",
        "outputId": "c0723a8d-6744-40a0-e648-8966fd95934e"
      },
      "outputs": [
        {
          "name": "stdout",
          "output_type": "stream",
          "text": [
            "[[0 1 2]\n",
            " [3 4 5]]\n"
          ]
        }
      ],
      "source": [
        "a.transpose()\n",
        "# Output: array([[0, 3],\n",
        "#                [1, 4],\n",
        "#                [2, 5]])\n",
        "print(a)"
      ]
    },
    {
      "cell_type": "code",
      "execution_count": 55,
      "metadata": {},
      "outputs": [
        {
          "name": "stdout",
          "output_type": "stream",
          "text": [
            "[[0 1 2]\n",
            " [3 4 5]]\n"
          ]
        }
      ],
      "source": [
        "b = a.flatten()\n",
        "b[0] = 80\n",
        "print(a)"
      ]
    },
    {
      "cell_type": "code",
      "execution_count": 56,
      "metadata": {
        "colab": {
          "base_uri": "https://localhost:8080/"
        },
        "id": "XB3nFrmxl5uy",
        "outputId": "7ac634a4-5417-436b-b43e-65c5f84055d5"
      },
      "outputs": [
        {
          "name": "stdout",
          "output_type": "stream",
          "text": [
            "[[80  1  2]\n",
            " [ 3  4  5]]\n"
          ]
        }
      ],
      "source": [
        "b = a.ravel() # flattens to 1D # array([0, 1, 2, 3, 4, 5])\n",
        "b[0] = 80\n",
        "print(a)"
      ]
    },
    {
      "cell_type": "markdown",
      "metadata": {
        "id": "m4f0rbqKVkGP"
      },
      "source": [
        "read in csv data file"
      ]
    },
    {
      "cell_type": "code",
      "execution_count": 57,
      "metadata": {
        "colab": {
          "base_uri": "https://localhost:8080/"
        },
        "id": "KG1qIBh-VkGP",
        "outputId": "1d1aed56-ed01-4a46-f1ee-627e0ca09878"
      },
      "outputs": [
        {
          "name": "stdout",
          "output_type": "stream",
          "text": [
            "[[1 7 4 9 2 6 8 3 5 0]\n",
            " [4 8 3 9 5 7 2 6 0 1]\n",
            " [1 7 4 2 5 9 6 8 0 3]\n",
            " [0 7 5 2 8 6 3 4 1 9]\n",
            " [5 9 1 4 7 0 3 6 8 2]]\n"
          ]
        }
      ],
      "source": [
        "data = np.loadtxt(\"D:\\Python\\itw class\\data.txt\", dtype=np.uint8, delimiter=\",\", skiprows=1 )\n",
        "# loadtxt does not handle missing values. to handle such exceptions use genfromtxt instead.\n",
        "# Output: [ [1 7 4 9 2 6 8 3 5 0]\n",
        "#          [4 8 3 9 5 7 2 6 0 1]\n",
        "#          [1 7 4 2 5 9 6 8 0 3]\n",
        "#          [0 7 5 2 8 6 3 4 1 9]\n",
        "#          [5 9 1 4 7 0 3 6 8 2]]\n",
        "print(data)"
      ]
    },
    {
      "cell_type": "code",
      "execution_count": 58,
      "metadata": {
        "colab": {
          "base_uri": "https://localhost:8080/"
        },
        "id": "_E8dFAYmVkGP",
        "outputId": "ddbeeb8b-04f2-4eab-e6b7-4fcdb2e600dd"
      },
      "outputs": [
        {
          "ename": "FileNotFoundError",
          "evalue": "/content/drive/MyDrive/data.txt not found.",
          "output_type": "error",
          "traceback": [
            "\u001b[1;31m---------------------------------------------------------------------------\u001b[0m",
            "\u001b[1;31mFileNotFoundError\u001b[0m                         Traceback (most recent call last)",
            "Cell \u001b[1;32mIn[58], line 1\u001b[0m\n\u001b[1;32m----> 1\u001b[0m data \u001b[39m=\u001b[39m np\u001b[39m.\u001b[39;49mloadtxt(\u001b[39m\"\u001b[39;49m\u001b[39m/content/drive/MyDrive/data.txt\u001b[39;49m\u001b[39m\"\u001b[39;49m, dtype\u001b[39m=\u001b[39;49mnp\u001b[39m.\u001b[39;49muint8, delimiter\u001b[39m=\u001b[39;49m\u001b[39m\"\u001b[39;49m\u001b[39m,\u001b[39;49m\u001b[39m\"\u001b[39;49m, skiprows\u001b[39m=\u001b[39;49m\u001b[39m1\u001b[39;49m, usecols\u001b[39m=\u001b[39;49m[\u001b[39m0\u001b[39;49m,\u001b[39m1\u001b[39;49m,\u001b[39m2\u001b[39;49m,\u001b[39m3\u001b[39;49m])\n\u001b[0;32m      2\u001b[0m \u001b[39mprint\u001b[39m(data)\n\u001b[0;32m      3\u001b[0m \u001b[39m# Output:array([[1, 7, 4, 9],\u001b[39;00m\n\u001b[0;32m      4\u001b[0m \u001b[39m#               [4, 8, 3, 9],\u001b[39;00m\n\u001b[0;32m      5\u001b[0m \u001b[39m#               [1, 7, 4, 2],\u001b[39;00m\n\u001b[0;32m      6\u001b[0m \u001b[39m#               [0, 7, 5, 2],\u001b[39;00m\n\u001b[0;32m      7\u001b[0m \u001b[39m#               [5, 9, 1, 4]], dtype=uint8)\u001b[39;00m\n",
            "File \u001b[1;32mc:\\Users\\Dev IIT\\AppData\\Local\\Programs\\Python\\Python311\\Lib\\site-packages\\numpy\\lib\\npyio.py:1356\u001b[0m, in \u001b[0;36mloadtxt\u001b[1;34m(fname, dtype, comments, delimiter, converters, skiprows, usecols, unpack, ndmin, encoding, max_rows, quotechar, like)\u001b[0m\n\u001b[0;32m   1353\u001b[0m \u001b[39mif\u001b[39;00m \u001b[39misinstance\u001b[39m(delimiter, \u001b[39mbytes\u001b[39m):\n\u001b[0;32m   1354\u001b[0m     delimiter \u001b[39m=\u001b[39m delimiter\u001b[39m.\u001b[39mdecode(\u001b[39m'\u001b[39m\u001b[39mlatin1\u001b[39m\u001b[39m'\u001b[39m)\n\u001b[1;32m-> 1356\u001b[0m arr \u001b[39m=\u001b[39m _read(fname, dtype\u001b[39m=\u001b[39;49mdtype, comment\u001b[39m=\u001b[39;49mcomment, delimiter\u001b[39m=\u001b[39;49mdelimiter,\n\u001b[0;32m   1357\u001b[0m             converters\u001b[39m=\u001b[39;49mconverters, skiplines\u001b[39m=\u001b[39;49mskiprows, usecols\u001b[39m=\u001b[39;49musecols,\n\u001b[0;32m   1358\u001b[0m             unpack\u001b[39m=\u001b[39;49munpack, ndmin\u001b[39m=\u001b[39;49mndmin, encoding\u001b[39m=\u001b[39;49mencoding,\n\u001b[0;32m   1359\u001b[0m             max_rows\u001b[39m=\u001b[39;49mmax_rows, quote\u001b[39m=\u001b[39;49mquotechar)\n\u001b[0;32m   1361\u001b[0m \u001b[39mreturn\u001b[39;00m arr\n",
            "File \u001b[1;32mc:\\Users\\Dev IIT\\AppData\\Local\\Programs\\Python\\Python311\\Lib\\site-packages\\numpy\\lib\\npyio.py:975\u001b[0m, in \u001b[0;36m_read\u001b[1;34m(fname, delimiter, comment, quote, imaginary_unit, usecols, skiplines, max_rows, converters, ndmin, unpack, dtype, encoding)\u001b[0m\n\u001b[0;32m    973\u001b[0m     fname \u001b[39m=\u001b[39m os\u001b[39m.\u001b[39mfspath(fname)\n\u001b[0;32m    974\u001b[0m \u001b[39mif\u001b[39;00m \u001b[39misinstance\u001b[39m(fname, \u001b[39mstr\u001b[39m):\n\u001b[1;32m--> 975\u001b[0m     fh \u001b[39m=\u001b[39m np\u001b[39m.\u001b[39;49mlib\u001b[39m.\u001b[39;49m_datasource\u001b[39m.\u001b[39;49mopen(fname, \u001b[39m'\u001b[39;49m\u001b[39mrt\u001b[39;49m\u001b[39m'\u001b[39;49m, encoding\u001b[39m=\u001b[39;49mencoding)\n\u001b[0;32m    976\u001b[0m     \u001b[39mif\u001b[39;00m encoding \u001b[39mis\u001b[39;00m \u001b[39mNone\u001b[39;00m:\n\u001b[0;32m    977\u001b[0m         encoding \u001b[39m=\u001b[39m \u001b[39mgetattr\u001b[39m(fh, \u001b[39m'\u001b[39m\u001b[39mencoding\u001b[39m\u001b[39m'\u001b[39m, \u001b[39m'\u001b[39m\u001b[39mlatin1\u001b[39m\u001b[39m'\u001b[39m)\n",
            "File \u001b[1;32mc:\\Users\\Dev IIT\\AppData\\Local\\Programs\\Python\\Python311\\Lib\\site-packages\\numpy\\lib\\_datasource.py:193\u001b[0m, in \u001b[0;36mopen\u001b[1;34m(path, mode, destpath, encoding, newline)\u001b[0m\n\u001b[0;32m    156\u001b[0m \u001b[39m\u001b[39m\u001b[39m\"\"\"\u001b[39;00m\n\u001b[0;32m    157\u001b[0m \u001b[39mOpen `path` with `mode` and return the file object.\u001b[39;00m\n\u001b[0;32m    158\u001b[0m \n\u001b[1;32m   (...)\u001b[0m\n\u001b[0;32m    189\u001b[0m \n\u001b[0;32m    190\u001b[0m \u001b[39m\"\"\"\u001b[39;00m\n\u001b[0;32m    192\u001b[0m ds \u001b[39m=\u001b[39m DataSource(destpath)\n\u001b[1;32m--> 193\u001b[0m \u001b[39mreturn\u001b[39;00m ds\u001b[39m.\u001b[39;49mopen(path, mode, encoding\u001b[39m=\u001b[39;49mencoding, newline\u001b[39m=\u001b[39;49mnewline)\n",
            "File \u001b[1;32mc:\\Users\\Dev IIT\\AppData\\Local\\Programs\\Python\\Python311\\Lib\\site-packages\\numpy\\lib\\_datasource.py:533\u001b[0m, in \u001b[0;36mDataSource.open\u001b[1;34m(self, path, mode, encoding, newline)\u001b[0m\n\u001b[0;32m    530\u001b[0m     \u001b[39mreturn\u001b[39;00m _file_openers[ext](found, mode\u001b[39m=\u001b[39mmode,\n\u001b[0;32m    531\u001b[0m                               encoding\u001b[39m=\u001b[39mencoding, newline\u001b[39m=\u001b[39mnewline)\n\u001b[0;32m    532\u001b[0m \u001b[39melse\u001b[39;00m:\n\u001b[1;32m--> 533\u001b[0m     \u001b[39mraise\u001b[39;00m \u001b[39mFileNotFoundError\u001b[39;00m(\u001b[39mf\u001b[39m\u001b[39m\"\u001b[39m\u001b[39m{\u001b[39;00mpath\u001b[39m}\u001b[39;00m\u001b[39m not found.\u001b[39m\u001b[39m\"\u001b[39m)\n",
            "\u001b[1;31mFileNotFoundError\u001b[0m: /content/drive/MyDrive/data.txt not found."
          ]
        }
      ],
      "source": [
        "data = np.loadtxt(\"/content/drive/MyDrive/data.txt\", dtype=np.uint8, delimiter=\",\", skiprows=1, usecols=[0,1,2,3])\n",
        "print(data)\n",
        "# Output:array([[1, 7, 4, 9],\n",
        "#               [4, 8, 3, 9],\n",
        "#               [1, 7, 4, 2],\n",
        "#               [0, 7, 5, 2],\n",
        "#               [5, 9, 1, 4]], dtype=uint8)\n"
      ]
    },
    {
      "cell_type": "markdown",
      "metadata": {},
      "source": []
    },
    {
      "cell_type": "code",
      "execution_count": null,
      "metadata": {
        "colab": {
          "base_uri": "https://localhost:8080/"
        },
        "id": "ngd0LQT0okXU",
        "outputId": "3caf07e5-652b-4573-9012-8c8b99fe4101"
      },
      "outputs": [
        {
          "name": "stdout",
          "output_type": "stream",
          "text": [
            "[[1 7 4 9]\n",
            " [1 7 4 2]\n",
            " [0 7 5 2]\n",
            " [5 9 1 4]\n",
            " [4 8 3 9]]\n"
          ]
        }
      ],
      "source": [
        "np.random.shuffle(data)\n",
        "print(data)\n"
      ]
    },
    {
      "cell_type": "code",
      "execution_count": null,
      "metadata": {
        "colab": {
          "base_uri": "https://localhost:8080/"
        },
        "id": "RAzT4LORVkGP",
        "outputId": "b9082226-6d41-41b0-caf0-4390a61cf35c"
      },
      "outputs": [
        {
          "name": "stdout",
          "output_type": "stream",
          "text": [
            "[0.59 0.48 0.19 0.79 0.68]\n"
          ]
        }
      ],
      "source": [
        "a = np.random.random(5) #5 random numbers between 0 and 1.\n",
        "# Output: array([ 0.1424916 ,  0.34602233,  0.10294581,  0.37575511,  0.04312772])\n",
        "print(a)"
      ]
    },
    {
      "cell_type": "code",
      "execution_count": null,
      "metadata": {
        "colab": {
          "base_uri": "https://localhost:8080/"
        },
        "id": "0vyIv4FlVkGP",
        "outputId": "ca322863-9c28-43ac-bafb-0bb09bb0a586"
      },
      "outputs": [
        {
          "name": "stdout",
          "output_type": "stream",
          "text": [
            "[0.59 0.48 0.19 0.79 0.68]\n"
          ]
        }
      ],
      "source": [
        "np.random.choice(a) #Output: 0.10294580703740197 # a random choice.\n",
        "print(a)"
      ]
    },
    {
      "cell_type": "code",
      "execution_count": null,
      "metadata": {
        "colab": {
          "base_uri": "https://localhost:8080/"
        },
        "id": "jmSh7pJjVkGP",
        "outputId": "c3da44e9-1552-444f-c28a-6f5455e35cb6"
      },
      "outputs": [
        {
          "name": "stdout",
          "output_type": "stream",
          "text": [
            "[0.59 0.48 0.19 0.79 0.68]\n"
          ]
        }
      ],
      "source": [
        "np.random.randint(5,10,2) #Output: array([5, 6])\t\n",
        "print(a)"
      ]
    },
    {
      "cell_type": "markdown",
      "metadata": {
        "id": "UAjyayxFpGmy"
      },
      "source": [
        "=============================================================================\n",
        "#High level data structure.  #dataframe\n",
        "#More streamlined handeling to tabular data and rich time series functionality.\n",
        "#It support data alignment, missing data friendly statistics, groupby, merge and join methods.\n",
        "#In Pandas datastructure we can freely draw NumPy and SciPy functions to manipulate them.\n",
        "#Pandas"
      ]
    },
    {
      "cell_type": "code",
      "execution_count": null,
      "metadata": {
        "id": "-x5Ubc-zVkGT"
      },
      "outputs": [],
      "source": [
        "import numpy as np   #import the entire numpy module with a short name as np\n",
        "import pandas as pd  #import the entire pandas module with a short name as pd"
      ]
    },
    {
      "cell_type": "code",
      "execution_count": null,
      "metadata": {
        "id": "l0RPt7S_VkGT"
      },
      "outputs": [],
      "source": [
        "def header(msg):\n",
        "\tprint('-' * 50)  # print 50 times \"-\"\n",
        "\tprint('[ ' + msg + ' ]') # print the msg which are passed through header function."
      ]
    },
    {
      "cell_type": "markdown",
      "metadata": {
        "id": "fsoLPcJrVkGT"
      },
      "source": [
        "1. load hard-coded data into a dataframe"
      ]
    },
    {
      "cell_type": "code",
      "execution_count": null,
      "metadata": {
        "colab": {
          "base_uri": "https://localhost:8080/"
        },
        "id": "3eCiEkBLVkGT",
        "outputId": "b782eafc-9505-4b54-d23b-8078dfe0c660"
      },
      "outputs": [
        {
          "name": "stdout",
          "output_type": "stream",
          "text": [
            "--------------------------------------------------\n",
            "[ 1. load hard-coded data into a df ]\n",
            "   month  avg_high  avg_low  record_high  record_low  avg_precipitation\n",
            "0    Jan        58       42           74          22               2.95\n",
            "1    Feb        61       45           78          26               3.02\n",
            "2    Mar        65       48           84          25               2.34\n",
            "3    Apr        67       50           92          28               1.02\n",
            "4    May        71       53           98          35               0.48\n",
            "5    Jun        75       56          107          41               0.11\n",
            "6    Jul        77       58          105          44               0.00\n",
            "7    Aug        77       59          102          43               0.03\n",
            "8    Sep        77       57          103          40               0.17\n",
            "9    Oct        73       54           96          34               0.81\n",
            "10   Nov        64       48           84          30               1.70\n",
            "11   Dec        58       42           73          21               2.56\n"
          ]
        }
      ],
      "source": [
        "header(\"1. load hard-coded data into a df\")\n",
        "df = pd.DataFrame(\n",
        "\t[['Jan',58,42,74,22,2.95],\n",
        "\t['Feb',61,45,78,26,3.02],\n",
        "\t['Mar',65,48,84,25,2.34],\n",
        "\t['Apr',67,50,92,28,1.02],\n",
        "\t['May',71,53,98,35,0.48],\n",
        "\t['Jun',75,56,107,41,0.11],\n",
        "\t['Jul',77,58,105,44,0.0],\n",
        "\t['Aug',77,59,102,43,0.03],\n",
        "\t['Sep',77,57,103,40,0.17],\n",
        "\t['Oct',73,54,96,34,0.81],\n",
        "\t['Nov',64,48,84,30,1.7],\n",
        "\t['Dec',58,42,73,21,2.56]],\n",
        "    \n",
        "\tindex = [0,1,2,3,4,5,6,7,8,9,10,11],\n",
        "\tcolumns = ['month','avg_high','avg_low','record_high','record_low',\n",
        "'avg_precipitation'])\n",
        "print(df)"
      ]
    },
    {
      "cell_type": "code",
      "execution_count": null,
      "metadata": {
        "id": "IGykoJLjVkGT"
      },
      "outputs": [],
      "source": [
        "# Output: \n",
        "# --------------------------------------------------\n",
        "# [ 1. load hard-coded data into a df ]\n",
        "#    month  avg_high  avg_low  record_high  record_low  avg_precipitation\n",
        "# 0    Jan        58       42           74          22               2.95\n",
        "# 1    Feb        61       45           78          26               3.02\n",
        "# 2    Mar        65       48           84          25               2.34\n",
        "# 3    Apr        67       50           92          28               1.02\n",
        "# 4    May        71       53           98          35               0.48\n",
        "# 5    Jun        75       56          107          41               0.11\n",
        "# 6    Jul        77       58          105          44               0.00\n",
        "# 7    Aug        77       59          102          43               0.03\n",
        "# 8    Sep        77       57          103          40               0.17\n",
        "# 9    Oct        73       54           96          34               0.81\n",
        "# 10   Nov        64       48           84          30               1.70\n",
        "# 11   Dec        58       42           73          21               2.56"
      ]
    },
    {
      "cell_type": "markdown",
      "metadata": {
        "id": "Py7qLuVdVkGU"
      },
      "source": [
        "2. read text file into a dataframe"
      ]
    },
    {
      "cell_type": "code",
      "execution_count": null,
      "metadata": {
        "colab": {
          "base_uri": "https://localhost:8080/",
          "height": 399
        },
        "id": "phUjgpNdVkGU",
        "outputId": "c47736e2-1c34-46ea-da63-2116ccc398f5"
      },
      "outputs": [
        {
          "name": "stdout",
          "output_type": "stream",
          "text": [
            "--------------------------------------------------\n",
            "[ 2. read text file into a df ]\n"
          ]
        },
        {
          "ename": "FileNotFoundError",
          "evalue": "[Errno 2] No such file or directory: 'Fremont_weather.txt'",
          "output_type": "error",
          "traceback": [
            "\u001b[1;31m---------------------------------------------------------------------------\u001b[0m",
            "\u001b[1;31mFileNotFoundError\u001b[0m                         Traceback (most recent call last)",
            "Cell \u001b[1;32mIn[51], line 3\u001b[0m\n\u001b[0;32m      1\u001b[0m header(\u001b[39m\"\u001b[39m\u001b[39m2. read text file into a df\u001b[39m\u001b[39m\"\u001b[39m)\n\u001b[0;32m      2\u001b[0m filename \u001b[39m=\u001b[39m \u001b[39m'\u001b[39m\u001b[39mFremont_weather.txt\u001b[39m\u001b[39m'\u001b[39m\n\u001b[1;32m----> 3\u001b[0m df \u001b[39m=\u001b[39m pd\u001b[39m.\u001b[39;49mread_csv(filename)\n\u001b[0;32m      4\u001b[0m \u001b[39mprint\u001b[39m(df)\n",
            "File \u001b[1;32mc:\\Users\\Dev IIT\\AppData\\Local\\Programs\\Python\\Python311\\Lib\\site-packages\\pandas\\io\\parsers\\readers.py:912\u001b[0m, in \u001b[0;36mread_csv\u001b[1;34m(filepath_or_buffer, sep, delimiter, header, names, index_col, usecols, dtype, engine, converters, true_values, false_values, skipinitialspace, skiprows, skipfooter, nrows, na_values, keep_default_na, na_filter, verbose, skip_blank_lines, parse_dates, infer_datetime_format, keep_date_col, date_parser, date_format, dayfirst, cache_dates, iterator, chunksize, compression, thousands, decimal, lineterminator, quotechar, quoting, doublequote, escapechar, comment, encoding, encoding_errors, dialect, on_bad_lines, delim_whitespace, low_memory, memory_map, float_precision, storage_options, dtype_backend)\u001b[0m\n\u001b[0;32m    899\u001b[0m kwds_defaults \u001b[39m=\u001b[39m _refine_defaults_read(\n\u001b[0;32m    900\u001b[0m     dialect,\n\u001b[0;32m    901\u001b[0m     delimiter,\n\u001b[1;32m   (...)\u001b[0m\n\u001b[0;32m    908\u001b[0m     dtype_backend\u001b[39m=\u001b[39mdtype_backend,\n\u001b[0;32m    909\u001b[0m )\n\u001b[0;32m    910\u001b[0m kwds\u001b[39m.\u001b[39mupdate(kwds_defaults)\n\u001b[1;32m--> 912\u001b[0m \u001b[39mreturn\u001b[39;00m _read(filepath_or_buffer, kwds)\n",
            "File \u001b[1;32mc:\\Users\\Dev IIT\\AppData\\Local\\Programs\\Python\\Python311\\Lib\\site-packages\\pandas\\io\\parsers\\readers.py:577\u001b[0m, in \u001b[0;36m_read\u001b[1;34m(filepath_or_buffer, kwds)\u001b[0m\n\u001b[0;32m    574\u001b[0m _validate_names(kwds\u001b[39m.\u001b[39mget(\u001b[39m\"\u001b[39m\u001b[39mnames\u001b[39m\u001b[39m\"\u001b[39m, \u001b[39mNone\u001b[39;00m))\n\u001b[0;32m    576\u001b[0m \u001b[39m# Create the parser.\u001b[39;00m\n\u001b[1;32m--> 577\u001b[0m parser \u001b[39m=\u001b[39m TextFileReader(filepath_or_buffer, \u001b[39m*\u001b[39;49m\u001b[39m*\u001b[39;49mkwds)\n\u001b[0;32m    579\u001b[0m \u001b[39mif\u001b[39;00m chunksize \u001b[39mor\u001b[39;00m iterator:\n\u001b[0;32m    580\u001b[0m     \u001b[39mreturn\u001b[39;00m parser\n",
            "File \u001b[1;32mc:\\Users\\Dev IIT\\AppData\\Local\\Programs\\Python\\Python311\\Lib\\site-packages\\pandas\\io\\parsers\\readers.py:1407\u001b[0m, in \u001b[0;36mTextFileReader.__init__\u001b[1;34m(self, f, engine, **kwds)\u001b[0m\n\u001b[0;32m   1404\u001b[0m     \u001b[39mself\u001b[39m\u001b[39m.\u001b[39moptions[\u001b[39m\"\u001b[39m\u001b[39mhas_index_names\u001b[39m\u001b[39m\"\u001b[39m] \u001b[39m=\u001b[39m kwds[\u001b[39m\"\u001b[39m\u001b[39mhas_index_names\u001b[39m\u001b[39m\"\u001b[39m]\n\u001b[0;32m   1406\u001b[0m \u001b[39mself\u001b[39m\u001b[39m.\u001b[39mhandles: IOHandles \u001b[39m|\u001b[39m \u001b[39mNone\u001b[39;00m \u001b[39m=\u001b[39m \u001b[39mNone\u001b[39;00m\n\u001b[1;32m-> 1407\u001b[0m \u001b[39mself\u001b[39m\u001b[39m.\u001b[39m_engine \u001b[39m=\u001b[39m \u001b[39mself\u001b[39;49m\u001b[39m.\u001b[39;49m_make_engine(f, \u001b[39mself\u001b[39;49m\u001b[39m.\u001b[39;49mengine)\n",
            "File \u001b[1;32mc:\\Users\\Dev IIT\\AppData\\Local\\Programs\\Python\\Python311\\Lib\\site-packages\\pandas\\io\\parsers\\readers.py:1661\u001b[0m, in \u001b[0;36mTextFileReader._make_engine\u001b[1;34m(self, f, engine)\u001b[0m\n\u001b[0;32m   1659\u001b[0m     \u001b[39mif\u001b[39;00m \u001b[39m\"\u001b[39m\u001b[39mb\u001b[39m\u001b[39m\"\u001b[39m \u001b[39mnot\u001b[39;00m \u001b[39min\u001b[39;00m mode:\n\u001b[0;32m   1660\u001b[0m         mode \u001b[39m+\u001b[39m\u001b[39m=\u001b[39m \u001b[39m\"\u001b[39m\u001b[39mb\u001b[39m\u001b[39m\"\u001b[39m\n\u001b[1;32m-> 1661\u001b[0m \u001b[39mself\u001b[39m\u001b[39m.\u001b[39mhandles \u001b[39m=\u001b[39m get_handle(\n\u001b[0;32m   1662\u001b[0m     f,\n\u001b[0;32m   1663\u001b[0m     mode,\n\u001b[0;32m   1664\u001b[0m     encoding\u001b[39m=\u001b[39;49m\u001b[39mself\u001b[39;49m\u001b[39m.\u001b[39;49moptions\u001b[39m.\u001b[39;49mget(\u001b[39m\"\u001b[39;49m\u001b[39mencoding\u001b[39;49m\u001b[39m\"\u001b[39;49m, \u001b[39mNone\u001b[39;49;00m),\n\u001b[0;32m   1665\u001b[0m     compression\u001b[39m=\u001b[39;49m\u001b[39mself\u001b[39;49m\u001b[39m.\u001b[39;49moptions\u001b[39m.\u001b[39;49mget(\u001b[39m\"\u001b[39;49m\u001b[39mcompression\u001b[39;49m\u001b[39m\"\u001b[39;49m, \u001b[39mNone\u001b[39;49;00m),\n\u001b[0;32m   1666\u001b[0m     memory_map\u001b[39m=\u001b[39;49m\u001b[39mself\u001b[39;49m\u001b[39m.\u001b[39;49moptions\u001b[39m.\u001b[39;49mget(\u001b[39m\"\u001b[39;49m\u001b[39mmemory_map\u001b[39;49m\u001b[39m\"\u001b[39;49m, \u001b[39mFalse\u001b[39;49;00m),\n\u001b[0;32m   1667\u001b[0m     is_text\u001b[39m=\u001b[39;49mis_text,\n\u001b[0;32m   1668\u001b[0m     errors\u001b[39m=\u001b[39;49m\u001b[39mself\u001b[39;49m\u001b[39m.\u001b[39;49moptions\u001b[39m.\u001b[39;49mget(\u001b[39m\"\u001b[39;49m\u001b[39mencoding_errors\u001b[39;49m\u001b[39m\"\u001b[39;49m, \u001b[39m\"\u001b[39;49m\u001b[39mstrict\u001b[39;49m\u001b[39m\"\u001b[39;49m),\n\u001b[0;32m   1669\u001b[0m     storage_options\u001b[39m=\u001b[39;49m\u001b[39mself\u001b[39;49m\u001b[39m.\u001b[39;49moptions\u001b[39m.\u001b[39;49mget(\u001b[39m\"\u001b[39;49m\u001b[39mstorage_options\u001b[39;49m\u001b[39m\"\u001b[39;49m, \u001b[39mNone\u001b[39;49;00m),\n\u001b[0;32m   1670\u001b[0m )\n\u001b[0;32m   1671\u001b[0m \u001b[39massert\u001b[39;00m \u001b[39mself\u001b[39m\u001b[39m.\u001b[39mhandles \u001b[39mis\u001b[39;00m \u001b[39mnot\u001b[39;00m \u001b[39mNone\u001b[39;00m\n\u001b[0;32m   1672\u001b[0m f \u001b[39m=\u001b[39m \u001b[39mself\u001b[39m\u001b[39m.\u001b[39mhandles\u001b[39m.\u001b[39mhandle\n",
            "File \u001b[1;32mc:\\Users\\Dev IIT\\AppData\\Local\\Programs\\Python\\Python311\\Lib\\site-packages\\pandas\\io\\common.py:859\u001b[0m, in \u001b[0;36mget_handle\u001b[1;34m(path_or_buf, mode, encoding, compression, memory_map, is_text, errors, storage_options)\u001b[0m\n\u001b[0;32m    854\u001b[0m \u001b[39melif\u001b[39;00m \u001b[39misinstance\u001b[39m(handle, \u001b[39mstr\u001b[39m):\n\u001b[0;32m    855\u001b[0m     \u001b[39m# Check whether the filename is to be opened in binary mode.\u001b[39;00m\n\u001b[0;32m    856\u001b[0m     \u001b[39m# Binary mode does not support 'encoding' and 'newline'.\u001b[39;00m\n\u001b[0;32m    857\u001b[0m     \u001b[39mif\u001b[39;00m ioargs\u001b[39m.\u001b[39mencoding \u001b[39mand\u001b[39;00m \u001b[39m\"\u001b[39m\u001b[39mb\u001b[39m\u001b[39m\"\u001b[39m \u001b[39mnot\u001b[39;00m \u001b[39min\u001b[39;00m ioargs\u001b[39m.\u001b[39mmode:\n\u001b[0;32m    858\u001b[0m         \u001b[39m# Encoding\u001b[39;00m\n\u001b[1;32m--> 859\u001b[0m         handle \u001b[39m=\u001b[39m \u001b[39mopen\u001b[39;49m(\n\u001b[0;32m    860\u001b[0m             handle,\n\u001b[0;32m    861\u001b[0m             ioargs\u001b[39m.\u001b[39;49mmode,\n\u001b[0;32m    862\u001b[0m             encoding\u001b[39m=\u001b[39;49mioargs\u001b[39m.\u001b[39;49mencoding,\n\u001b[0;32m    863\u001b[0m             errors\u001b[39m=\u001b[39;49merrors,\n\u001b[0;32m    864\u001b[0m             newline\u001b[39m=\u001b[39;49m\u001b[39m\"\u001b[39;49m\u001b[39m\"\u001b[39;49m,\n\u001b[0;32m    865\u001b[0m         )\n\u001b[0;32m    866\u001b[0m     \u001b[39melse\u001b[39;00m:\n\u001b[0;32m    867\u001b[0m         \u001b[39m# Binary mode\u001b[39;00m\n\u001b[0;32m    868\u001b[0m         handle \u001b[39m=\u001b[39m \u001b[39mopen\u001b[39m(handle, ioargs\u001b[39m.\u001b[39mmode)\n",
            "\u001b[1;31mFileNotFoundError\u001b[0m: [Errno 2] No such file or directory: 'Fremont_weather.txt'"
          ]
        }
      ],
      "source": [
        "header(\"2. read text file into a df\")\n",
        "filename = 'Fremont_weather.txt'\n",
        "df = pd.read_csv(filename)\n",
        "print(df)"
      ]
    },
    {
      "cell_type": "code",
      "execution_count": null,
      "metadata": {
        "id": "qDwohTpbVkGU"
      },
      "outputs": [],
      "source": [
        "# Output:\n",
        "# --------------------------------------------------\n",
        "# [ 2. read text file into a df ]\n",
        "#    month  avg_high  avg_low  record_high  record_low  avg_precipitation\n",
        "# 0    Jan        58       42           74          22               2.95\n",
        "# 1    Feb        61       45           78          26               3.02\n",
        "# 2    Mar        65       48           84          25               2.34\n",
        "# 3    Apr        67       50           92          28               1.02\n",
        "# 4    May        71       53           98          35               0.48\n",
        "# 5    Jun        75       56          107          41               0.11\n",
        "# 6    Jul        77       58          105          44               0.00\n",
        "# 7    Aug        77       59          102          43               0.03\n",
        "# 8    Sep        77       57          103          40               0.17\n",
        "# 9    Oct        73       54           96          34               0.81\n",
        "# 10   Nov        64       48           84          30               1.70\n",
        "# 11   Dec        58       42           73          21               2.56"
      ]
    },
    {
      "cell_type": "markdown",
      "metadata": {
        "id": "eJO2Cs7SVkGU"
      },
      "source": [
        "3. print first 5 or last 3 rows of df"
      ]
    },
    {
      "cell_type": "code",
      "execution_count": null,
      "metadata": {
        "id": "Z3CN9gOAVkGU"
      },
      "outputs": [
        {
          "name": "stdout",
          "output_type": "stream",
          "text": [
            "--------------------------------------------------\n",
            "[ 3. df.head() ]\n",
            "  month  avg_high  avg_low  record_high  record_low  avg_precipitation\n",
            "0   Jan        58       42           74          22               2.95\n",
            "1   Feb        61       45           78          26               3.02\n",
            "2   Mar        65       48           84          25               2.34\n",
            "3   Apr        67       50           92          28               1.02\n",
            "4   May        71       53           98          35               0.48\n",
            "--------------------------------------------------\n",
            "[ 3. df.tail(3) ]\n",
            "   month  avg_high  avg_low  record_high  record_low  avg_precipitation\n",
            "9    Oct        73       54           96          34               0.81\n",
            "10   Nov        64       48           84          30               1.70\n",
            "11   Dec        58       42           73          21               2.56\n"
          ]
        }
      ],
      "source": [
        "header(\"3. df.head()\")\n",
        "print(df.head())\n",
        "header(\"3. df.tail(3)\")\n",
        "print(df.tail(3))"
      ]
    },
    {
      "cell_type": "code",
      "execution_count": null,
      "metadata": {
        "id": "wr7lUzZjVkGU"
      },
      "outputs": [],
      "source": [
        "# Output:\n",
        "# --------------------------------------------------\n",
        "# [ 3. df.head() ]\n",
        "#   month  avg_high  avg_low  record_high  record_low  avg_precipitation\n",
        "# 0   Jan        58       42           74          22               2.95\n",
        "# 1   Feb        61       45           78          26               3.02\n",
        "# 2   Mar        65       48           84          25               2.34\n",
        "# 3   Apr        67       50           92          28               1.02\n",
        "# 4   May        71       53           98          35               0.48\n",
        "# --------------------------------------------------\n",
        "# [ 3. df.tail(3) ]\n",
        "#    month  avg_high  avg_low  record_high  record_low  avg_precipitation\n",
        "# 9    Oct        73       54           96          34               0.81\n",
        "# 10   Nov        64       48           84          30               1.70\n",
        "# 11   Dec        58       42           73          21               2.56"
      ]
    },
    {
      "cell_type": "markdown",
      "metadata": {
        "id": "Vqq-cN9uVkGV"
      },
      "source": [
        "4. get data types, index, columns, values"
      ]
    },
    {
      "cell_type": "code",
      "execution_count": null,
      "metadata": {
        "id": "PErmm5RRVkGV"
      },
      "outputs": [
        {
          "name": "stdout",
          "output_type": "stream",
          "text": [
            "--------------------------------------------------\n",
            "[ 4. df.dtypes ]\n",
            "month                 object\n",
            "avg_high               int64\n",
            "avg_low                int64\n",
            "record_high            int64\n",
            "record_low             int64\n",
            "avg_precipitation    float64\n",
            "dtype: object\n"
          ]
        }
      ],
      "source": [
        "header(\"4. df.dtypes\")\n",
        "print(df.dtypes)\n",
        "# Output:\n",
        "# --------------------------------------------------\n",
        "# [ 4. df.dtypes ]\n",
        "# month                 object\n",
        "# avg_high               int64\n",
        "# avg_low                int64\n",
        "# record_high            int64\n",
        "# record_low             int64\n",
        "# avg_precipitation    float64\n",
        "# dtype: object"
      ]
    },
    {
      "cell_type": "code",
      "execution_count": null,
      "metadata": {
        "id": "I5Yk005OVkGV"
      },
      "outputs": [
        {
          "name": "stdout",
          "output_type": "stream",
          "text": [
            "--------------------------------------------------\n",
            "[ 4. df.index ]\n",
            "Index([0, 1, 2, 3, 4, 5, 6, 7, 8, 9, 10, 11], dtype='int64')\n"
          ]
        }
      ],
      "source": [
        "header(\"4. df.index\")\n",
        "print(df.index)"
      ]
    },
    {
      "cell_type": "code",
      "execution_count": null,
      "metadata": {
        "id": "gCKQ612NVkGV"
      },
      "outputs": [],
      "source": [
        "# Output:\n",
        "# --------------------------------------------------\n",
        "# [ 4. df.index ]\n",
        "# RangeIndex(start=0, stop=12, step=1)"
      ]
    },
    {
      "cell_type": "code",
      "execution_count": null,
      "metadata": {
        "id": "Y-Vo3rfKVkGV"
      },
      "outputs": [
        {
          "name": "stdout",
          "output_type": "stream",
          "text": [
            "--------------------------------------------------\n",
            "[ 4. df.columns ]\n",
            "Index(['month', 'avg_high', 'avg_low', 'record_high', 'record_low',\n",
            "       'avg_precipitation'],\n",
            "      dtype='object')\n"
          ]
        }
      ],
      "source": [
        "header(\"4. df.columns\")\n",
        "print(df.columns)"
      ]
    },
    {
      "cell_type": "code",
      "execution_count": null,
      "metadata": {
        "id": "2KKWjojoVkGV"
      },
      "outputs": [],
      "source": [
        "# Output:\n",
        "# [ 4. df.columns ]\n",
        "# Index(['month', 'avg_high', 'avg_low', 'record_high', 'record_low', 'avg_precipitation'],\n",
        "#       dtype='object')"
      ]
    },
    {
      "cell_type": "code",
      "execution_count": null,
      "metadata": {
        "id": "1Sa8XJdfVkGW"
      },
      "outputs": [
        {
          "name": "stdout",
          "output_type": "stream",
          "text": [
            "--------------------------------------------------\n",
            "[ 4. df.values ]\n",
            "[['Jan' 58 42 74 22 2.95]\n",
            " ['Feb' 61 45 78 26 3.02]\n",
            " ['Mar' 65 48 84 25 2.34]\n",
            " ['Apr' 67 50 92 28 1.02]\n",
            " ['May' 71 53 98 35 0.48]\n",
            " ['Jun' 75 56 107 41 0.11]\n",
            " ['Jul' 77 58 105 44 0.0]\n",
            " ['Aug' 77 59 102 43 0.03]\n",
            " ['Sep' 77 57 103 40 0.17]\n",
            " ['Oct' 73 54 96 34 0.81]\n",
            " ['Nov' 64 48 84 30 1.7]\n",
            " ['Dec' 58 42 73 21 2.56]]\n"
          ]
        }
      ],
      "source": [
        "header(\"4. df.values\")\n",
        "print(df.values)"
      ]
    },
    {
      "cell_type": "code",
      "execution_count": null,
      "metadata": {
        "id": "ZxuWijYCVkGW"
      },
      "outputs": [],
      "source": [
        "# Output:\n",
        "# --------------------------------------------------\n",
        "# [ 4. df.values ]\n",
        "# [['Jan' 58 42 74 22 2.95]\n",
        "#  ['Feb' 61 45 78 26 3.02]\n",
        "#  ['Mar' 65 48 84 25 2.34]\n",
        "#  ['Apr' 67 50 92 28 1.02]\n",
        "#  ['May' 71 53 98 35 0.48]\n",
        "#  ['Jun' 75 56 107 41 0.11]\n",
        "#  ['Jul' 77 58 105 44 0.0]\n",
        "#  ['Aug' 77 59 102 43 0.03]\n",
        "#  ['Sep' 77 57 103 40 0.17]\n",
        "#  ['Oct' 73 54 96 34 0.81]\n",
        "#  ['Nov' 64 48 84 30 1.7]\n",
        "#  ['Dec' 58 42 73 21 2.56]]"
      ]
    },
    {
      "cell_type": "markdown",
      "metadata": {
        "id": "o3Qb_TvrVkGW"
      },
      "source": [
        "5. statistical summary of each column"
      ]
    },
    {
      "cell_type": "code",
      "execution_count": null,
      "metadata": {
        "id": "nklKI23sVkGW"
      },
      "outputs": [
        {
          "name": "stdout",
          "output_type": "stream",
          "text": [
            "--------------------------------------------------\n",
            "[ 5. df.describe() ]\n",
            "        avg_high    avg_low  record_high  record_low  avg_precipitation\n",
            "count  12.000000  12.000000    12.000000   12.000000          12.000000\n",
            "mean   68.583333  51.000000    91.333333   32.416667           1.265833\n",
            "std     7.366488   6.060303    12.323911    8.240238           1.186396\n",
            "min    58.000000  42.000000    73.000000   21.000000           0.000000\n",
            "25%    63.250000  47.250000    82.500000   25.750000           0.155000\n",
            "50%    69.000000  51.500000    94.000000   32.000000           0.915000\n",
            "75%    75.500000  56.250000   102.250000   40.250000           2.395000\n",
            "max    77.000000  59.000000   107.000000   44.000000           3.020000\n"
          ]
        }
      ],
      "source": [
        "header(\"5. df.describe()\")\n",
        "print(df.describe())"
      ]
    },
    {
      "cell_type": "code",
      "execution_count": null,
      "metadata": {
        "id": "1MwhZNxMVkGW"
      },
      "outputs": [],
      "source": [
        "# Output:\n",
        "# --------------------------------------------------\n",
        "# [ 5. df.describe() ]\n",
        "#         avg_high    avg_low  record_high  record_low  avg_precipitation\n",
        "# count  12.000000  12.000000    12.000000   12.000000          12.000000\n",
        "# mean   68.583333  51.000000    91.333333   32.416667           1.265833\n",
        "# std     7.366488   6.060303    12.323911    8.240238           1.186396\n",
        "# min    58.000000  42.000000    73.000000   21.000000           0.000000\n",
        "# 25%    63.250000  47.250000    82.500000   25.750000           0.155000\n",
        "# 50%    69.000000  51.500000    94.000000   32.000000           0.915000\n",
        "# 75%    75.500000  56.250000   102.250000   40.250000           2.395000\n",
        "# max    77.000000  59.000000   107.000000   44.000000           3.020000"
      ]
    },
    {
      "cell_type": "markdown",
      "metadata": {
        "id": "tMFXVaD6VkGX"
      },
      "source": [
        "6. sort records by any column"
      ]
    },
    {
      "cell_type": "markdown",
      "metadata": {
        "id": "aP9BUq6CVkGX"
      },
      "source": [
        "7. slicing records"
      ]
    },
    {
      "cell_type": "code",
      "execution_count": null,
      "metadata": {
        "id": "B2SQzTHcVkGY"
      },
      "outputs": [
        {
          "name": "stdout",
          "output_type": "stream",
          "text": [
            "--------------------------------------------------\n",
            "[ 7. slicing -- df.avg_low ]\n",
            "0     42\n",
            "1     45\n",
            "2     48\n",
            "3     50\n",
            "4     53\n",
            "5     56\n",
            "6     58\n",
            "7     59\n",
            "8     57\n",
            "9     54\n",
            "10    48\n",
            "11    42\n",
            "Name: avg_low, dtype: int64\n"
          ]
        }
      ],
      "source": [
        "header(\"7. slicing -- df.avg_low\")\n",
        "print(df.avg_low)\t\t\t\t# index with single column\n",
        "# Output:\n",
        "# --------------------------------------------------\n",
        "# [ 7. slicing -- df.avg_low ]\n",
        "# 0     42\n",
        "# 1     45\n",
        "# 2     48\n",
        "# 3     50\n",
        "# 4     53\n",
        "# 5     56\n",
        "# 6     58\n",
        "# 7     59\n",
        "# 8     57\n",
        "# 9     54\n",
        "# 10    48\n",
        "# 11    42\n",
        "# Name: avg_low, dtype: int64"
      ]
    },
    {
      "cell_type": "code",
      "execution_count": null,
      "metadata": {
        "id": "vgsYE1UtVkGY"
      },
      "outputs": [
        {
          "name": "stdout",
          "output_type": "stream",
          "text": [
            "--------------------------------------------------\n",
            "[ 7. slicing -- df['avg_low'] ]\n",
            "0     42\n",
            "1     45\n",
            "2     48\n",
            "3     50\n",
            "4     53\n",
            "5     56\n",
            "6     58\n",
            "7     59\n",
            "8     57\n",
            "9     54\n",
            "10    48\n",
            "11    42\n",
            "Name: avg_low, dtype: int64\n"
          ]
        }
      ],
      "source": [
        "header(\"7. slicing -- df['avg_low']\")\n",
        "print(df['avg_low'])\n",
        "# Output:\n",
        "# --------------------------------------------------\n",
        "# [ 7. slicing -- df.avg_low ]\n",
        "# 0     42\n",
        "# 1     45\n",
        "# 2     48\n",
        "# 3     50\n",
        "# 4     53\n",
        "# 5     56\n",
        "# 6     58\n",
        "# 7     59\n",
        "# 8     57\n",
        "# 9     54\n",
        "# 10    48\n",
        "# 11    42\n",
        "# Name: avg_low, dtype: int64"
      ]
    },
    {
      "cell_type": "code",
      "execution_count": null,
      "metadata": {
        "id": "yaOxShxtVkGY"
      },
      "outputs": [
        {
          "name": "stdout",
          "output_type": "stream",
          "text": [
            "--------------------------------------------------\n",
            "[ 7. slicing -- df[2:4] ]\n",
            "  month  avg_high  avg_low  record_high  record_low  avg_precipitation\n",
            "2   Mar        65       48           84          25               2.34\n",
            "3   Apr        67       50           92          28               1.02\n"
          ]
        }
      ],
      "source": [
        "header(\"7. slicing -- df[2:4]\")\t\t        # index with single column\n",
        "print(df[2:4])\t\t\t\t\t# rows 2 to 3"
      ]
    },
    {
      "cell_type": "code",
      "execution_count": null,
      "metadata": {
        "id": "wLa_yvAIVkGY"
      },
      "outputs": [],
      "source": [
        "# Output:\n",
        "# --------------------------------------------------\n",
        "# [ 7. slicing -- df[2:4] ]\n",
        "#   month  avg_high  avg_low  record_high  record_low  avg_precipitation\n",
        "# 2   Mar        65       48           84          25               2.34\n",
        "# 3   Apr        67       50           92          28               1.02"
      ]
    },
    {
      "cell_type": "code",
      "execution_count": null,
      "metadata": {
        "id": "i_a8JY39VkGY"
      },
      "outputs": [
        {
          "name": "stdout",
          "output_type": "stream",
          "text": [
            "--------------------------------------------------\n",
            "[ 7. slicing -- df[['avg_low','avg_high']] ]\n",
            "    avg_low  avg_high\n",
            "0        42        58\n",
            "1        45        61\n",
            "2        48        65\n",
            "3        50        67\n",
            "4        53        71\n",
            "5        56        75\n",
            "6        58        77\n",
            "7        59        77\n",
            "8        57        77\n",
            "9        54        73\n",
            "10       48        64\n",
            "11       42        58\n"
          ]
        }
      ],
      "source": [
        "header(\"7. slicing -- df[['avg_low','avg_high']]\")\n",
        "print(df[['avg_low','avg_high']])"
      ]
    },
    {
      "cell_type": "code",
      "execution_count": null,
      "metadata": {
        "id": "lwRrUli4VkGZ"
      },
      "outputs": [],
      "source": [
        "# Output:\n",
        "# --------------------------------------------------\n",
        "# [ 7. slicing -- df[['avg_low','avg_high']] ]\n",
        "#     avg_low  avg_high\n",
        "# 0        42        58\n",
        "# 1        45        61\n",
        "# 2        48        65\n",
        "# 3        50        67\n",
        "# 4        53        71\n",
        "# 5        56        75\n",
        "# 6        58        77\n",
        "# 7        59        77\n",
        "# 8        57        77\n",
        "# 9        54        73\n",
        "# 10       48        64\n",
        "# 11       42        58"
      ]
    },
    {
      "cell_type": "code",
      "execution_count": null,
      "metadata": {
        "id": "PrXtCUAXVkGZ"
      },
      "outputs": [
        {
          "name": "stdout",
          "output_type": "stream",
          "text": [
            "--------------------------------------------------\n",
            "[ 7. slicing scalar value -- df.loc[9,['avg_precipitation']] ]\n",
            "avg_precipitation    0.81\n",
            "Name: 9, dtype: object\n"
          ]
        }
      ],
      "source": [
        "header(\"7. slicing scalar value -- df.loc[9,['avg_precipitation']]\")\n",
        "print(df.loc[9,['avg_precipitation']])"
      ]
    },
    {
      "cell_type": "code",
      "execution_count": null,
      "metadata": {
        "id": "RxnSIW4xVkGZ"
      },
      "outputs": [],
      "source": [
        "# Output:\n",
        "# --------------------------------------------------\n",
        "# [ 7. slicing scalar value -- df.loc[9,['avg_precipitation']] ]\n",
        "# avg_precipitation    0.81\n",
        "# Name: 9, dtype: object"
      ]
    },
    {
      "cell_type": "code",
      "execution_count": null,
      "metadata": {
        "id": "YJyuItk6VkGZ"
      },
      "outputs": [
        {
          "name": "stdout",
          "output_type": "stream",
          "text": [
            "--------------------------------------------------\n",
            "[ 7. df.iloc[3:5,[0,3]] ]\n",
            "  month  record_high\n",
            "3   Apr           92\n",
            "4   May           98\n"
          ]
        }
      ],
      "source": [
        "header(\"7. df.iloc[3:5,[0,3]]\")\t # index location can receive range or list of indices\n",
        "print(df.iloc[3:5,[0,3]])"
      ]
    },
    {
      "cell_type": "code",
      "execution_count": null,
      "metadata": {
        "id": "-hA02hGXVkGZ"
      },
      "outputs": [],
      "source": [
        "# Output:\n",
        "# --------------------------------------------------\n",
        "# [ 7. df.iloc[3:5,[0,3]] ]\n",
        "#   month  record_high\n",
        "# 3   Apr           92\n",
        "# 4   May           98"
      ]
    },
    {
      "cell_type": "markdown",
      "metadata": {
        "id": "YbEwgwboVkGZ"
      },
      "source": [
        "8. filtering"
      ]
    },
    {
      "cell_type": "code",
      "execution_count": null,
      "metadata": {
        "id": "9c28EIipVkGa"
      },
      "outputs": [
        {
          "name": "stdout",
          "output_type": "stream",
          "text": [
            "--------------------------------------------------\n",
            "[ 8. df[df.avg_precipitation > 1.0] ]\n",
            "   month  avg_high  avg_low  record_high  record_low  avg_precipitation\n",
            "0    Jan        58       42           74          22               2.95\n",
            "1    Feb        61       45           78          26               3.02\n",
            "2    Mar        65       48           84          25               2.34\n",
            "3    Apr        67       50           92          28               1.02\n",
            "10   Nov        64       48           84          30               1.70\n",
            "11   Dec        58       42           73          21               2.56\n"
          ]
        }
      ],
      "source": [
        "header(\"8. df[df.avg_precipitation > 1.0]\")\t# filter on column values\n",
        "print(df[df.avg_precipitation > 1.0])"
      ]
    },
    {
      "cell_type": "code",
      "execution_count": null,
      "metadata": {
        "id": "BA2zDHJLVkGa"
      },
      "outputs": [],
      "source": [
        "# Output:\n",
        "# --------------------------------------------------\n",
        "# [ 8. df[df.avg_precipitation > 1.0] ]\n",
        "#    month  avg_high  avg_low  record_high  record_low  avg_precipitation\n",
        "# 0    Jan        58       42           74          22               2.95\n",
        "# 1    Feb        61       45           78          26               3.02\n",
        "# 2    Mar        65       48           84          25               2.34\n",
        "# 3    Apr        67       50           92          28               1.02\n",
        "# 10   Nov        64       48           84          30               1.70\n",
        "# 11   Dec        58       42           73          21               2.56"
      ]
    },
    {
      "cell_type": "code",
      "execution_count": null,
      "metadata": {
        "id": "OWuTi_BCVkGa"
      },
      "outputs": [
        {
          "name": "stdout",
          "output_type": "stream",
          "text": [
            "--------------------------------------------------\n",
            "[ 8. df[df['month'].isin['Jun','Jul','Aug']] ]\n",
            "  month  avg_high  avg_low  record_high  record_low  avg_precipitation\n",
            "5   Jun        75       56          107          41               0.11\n",
            "6   Jul        77       58          105          44               0.00\n",
            "7   Aug        77       59          102          43               0.03\n"
          ]
        }
      ],
      "source": [
        "#Must read ---\n",
        "\n",
        "header(\"8. df[df['month'].isin['Jun','Jul','Aug']]\")\n",
        "print(df[df['month'].isin(['Jun','Jul','Aug'])])"
      ]
    },
    {
      "cell_type": "code",
      "execution_count": null,
      "metadata": {
        "id": "wZczLFsrVkGa"
      },
      "outputs": [],
      "source": [
        "# Output:\n",
        "# --------------------------------------------------\n",
        "# [ 8. df[df['month'].isin['Jun','Jul','Aug']] ]\n",
        "#   month  avg_high  avg_low  record_high  record_low  avg_precipitation\n",
        "# 5   Jun        75       56          107          41               0.11\n",
        "# 6   Jul        77       58          105          44               0.00\n",
        "# 7   Aug        77       59          102          43               0.03"
      ]
    },
    {
      "cell_type": "markdown",
      "metadata": {
        "id": "S7nffaoLVkGa"
      },
      "source": [
        "9. assignment -- very similar to slicing"
      ]
    },
    {
      "cell_type": "code",
      "execution_count": null,
      "metadata": {
        "id": "T07sqBN9VkGa"
      },
      "outputs": [
        {
          "name": "stdout",
          "output_type": "stream",
          "text": [
            "--------------------------------------------------\n",
            "[ 9. df.loc[9,['avg_precipitation']] = 101.3 ]\n",
            "   month  avg_high  avg_low  record_high  record_low  avg_precipitation\n",
            "9    Oct        73       54           96          34              101.3\n",
            "10   Nov        64       48           84          30                1.7\n"
          ]
        }
      ],
      "source": [
        "header(\"9. df.loc[9,['avg_precipitation']] = 101.3\")\n",
        "df.loc[9,['avg_precipitation']] = 101.3\n",
        "print(df.iloc[9:11])"
      ]
    },
    {
      "cell_type": "code",
      "execution_count": null,
      "metadata": {
        "id": "s6WJ0x4pVkGa"
      },
      "outputs": [],
      "source": [
        "# Output:\n",
        "# --------------------------------------------------\n",
        "# [ 9. df.loc[9,['avg_precipitation']] = 101.3 ]\n",
        "#    month  avg_high  avg_low  record_high  record_low  avg_precipitation\n",
        "# 9    Oct        73       54           96          34              101.3\n",
        "# 10   Nov        64       48           84          30                1.7"
      ]
    },
    {
      "cell_type": "code",
      "execution_count": null,
      "metadata": {
        "id": "_Dzh2YZ2VkGc"
      },
      "outputs": [
        {
          "name": "stdout",
          "output_type": "stream",
          "text": [
            "--------------------------------------------------\n",
            "[ 9. df.loc[9,['avg_precipitation']] = np.nan ]\n",
            "   month  avg_high  avg_low  record_high  record_low  avg_precipitation\n",
            "9    Oct        73       54           96          34                NaN\n",
            "10   Nov        64       48           84          30                1.7\n"
          ]
        }
      ],
      "source": [
        "header(\"9. df.loc[9,['avg_precipitation']] = np.nan\")\n",
        "df.loc[9,['avg_precipitation']] = np.nan\n",
        "print(df.iloc[9:11])"
      ]
    },
    {
      "cell_type": "code",
      "execution_count": null,
      "metadata": {
        "id": "ZGOl9UP1VkGc"
      },
      "outputs": [],
      "source": [
        "# Output:\n",
        "# --------------------------------------------------\n",
        "# [ 9. df.loc[9,['avg_precipitation']] = np.nan ]\n",
        "#    month  avg_high  avg_low  record_high  record_low  avg_precipitation\n",
        "# 9    Oct        73       54           96          34                NaN\n",
        "# 10   Nov        64       48           84          30                1.7"
      ]
    },
    {
      "cell_type": "code",
      "execution_count": null,
      "metadata": {
        "id": "vyTOlmHZVkGc"
      },
      "outputs": [
        {
          "name": "stdout",
          "output_type": "stream",
          "text": [
            "--------------------------------------------------\n",
            "[ 9. df.loc[:,'avg_low'] = np.array([5]) ]\n"
          ]
        },
        {
          "ename": "ValueError",
          "evalue": "Must have equal len keys and value when setting with an iterable",
          "output_type": "error",
          "traceback": [
            "\u001b[1;31m---------------------------------------------------------------------------\u001b[0m",
            "\u001b[1;31mValueError\u001b[0m                                Traceback (most recent call last)",
            "Cell \u001b[1;32mIn[73], line 2\u001b[0m\n\u001b[0;32m      1\u001b[0m header(\u001b[39m\"\u001b[39m\u001b[39m9. df.loc[:,\u001b[39m\u001b[39m'\u001b[39m\u001b[39mavg_low\u001b[39m\u001b[39m'\u001b[39m\u001b[39m] = np.array([5])\u001b[39m\u001b[39m\"\u001b[39m)\n\u001b[1;32m----> 2\u001b[0m df\u001b[39m.\u001b[39;49mloc[:,\u001b[39m'\u001b[39;49m\u001b[39mavg_low\u001b[39;49m\u001b[39m'\u001b[39;49m] \u001b[39m=\u001b[39m np\u001b[39m.\u001b[39marray([\u001b[39m5\u001b[39m])\n\u001b[0;32m      3\u001b[0m \u001b[39mprint\u001b[39m(df\u001b[39m.\u001b[39mhead())\n",
            "File \u001b[1;32mc:\\Users\\Dev IIT\\AppData\\Local\\Programs\\Python\\Python311\\Lib\\site-packages\\pandas\\core\\indexing.py:849\u001b[0m, in \u001b[0;36m_LocationIndexer.__setitem__\u001b[1;34m(self, key, value)\u001b[0m\n\u001b[0;32m    846\u001b[0m \u001b[39mself\u001b[39m\u001b[39m.\u001b[39m_has_valid_setitem_indexer(key)\n\u001b[0;32m    848\u001b[0m iloc \u001b[39m=\u001b[39m \u001b[39mself\u001b[39m \u001b[39mif\u001b[39;00m \u001b[39mself\u001b[39m\u001b[39m.\u001b[39mname \u001b[39m==\u001b[39m \u001b[39m\"\u001b[39m\u001b[39miloc\u001b[39m\u001b[39m\"\u001b[39m \u001b[39melse\u001b[39;00m \u001b[39mself\u001b[39m\u001b[39m.\u001b[39mobj\u001b[39m.\u001b[39miloc\n\u001b[1;32m--> 849\u001b[0m iloc\u001b[39m.\u001b[39;49m_setitem_with_indexer(indexer, value, \u001b[39mself\u001b[39;49m\u001b[39m.\u001b[39;49mname)\n",
            "File \u001b[1;32mc:\\Users\\Dev IIT\\AppData\\Local\\Programs\\Python\\Python311\\Lib\\site-packages\\pandas\\core\\indexing.py:1828\u001b[0m, in \u001b[0;36m_iLocIndexer._setitem_with_indexer\u001b[1;34m(self, indexer, value, name)\u001b[0m\n\u001b[0;32m   1825\u001b[0m \u001b[39m# align and set the values\u001b[39;00m\n\u001b[0;32m   1826\u001b[0m \u001b[39mif\u001b[39;00m take_split_path:\n\u001b[0;32m   1827\u001b[0m     \u001b[39m# We have to operate column-wise\u001b[39;00m\n\u001b[1;32m-> 1828\u001b[0m     \u001b[39mself\u001b[39;49m\u001b[39m.\u001b[39;49m_setitem_with_indexer_split_path(indexer, value, name)\n\u001b[0;32m   1829\u001b[0m \u001b[39melse\u001b[39;00m:\n\u001b[0;32m   1830\u001b[0m     \u001b[39mself\u001b[39m\u001b[39m.\u001b[39m_setitem_single_block(indexer, value, name)\n",
            "File \u001b[1;32mc:\\Users\\Dev IIT\\AppData\\Local\\Programs\\Python\\Python311\\Lib\\site-packages\\pandas\\core\\indexing.py:1884\u001b[0m, in \u001b[0;36m_iLocIndexer._setitem_with_indexer_split_path\u001b[1;34m(self, indexer, value, name)\u001b[0m\n\u001b[0;32m   1879\u001b[0m     \u001b[39mif\u001b[39;00m \u001b[39mlen\u001b[39m(value) \u001b[39m==\u001b[39m \u001b[39m1\u001b[39m \u001b[39mand\u001b[39;00m \u001b[39mnot\u001b[39;00m is_integer(info_axis):\n\u001b[0;32m   1880\u001b[0m         \u001b[39m# This is a case like df.iloc[:3, [1]] = [0]\u001b[39;00m\n\u001b[0;32m   1881\u001b[0m         \u001b[39m#  where we treat as df.iloc[:3, 1] = 0\u001b[39;00m\n\u001b[0;32m   1882\u001b[0m         \u001b[39mreturn\u001b[39;00m \u001b[39mself\u001b[39m\u001b[39m.\u001b[39m_setitem_with_indexer((pi, info_axis[\u001b[39m0\u001b[39m]), value[\u001b[39m0\u001b[39m])\n\u001b[1;32m-> 1884\u001b[0m     \u001b[39mraise\u001b[39;00m \u001b[39mValueError\u001b[39;00m(\n\u001b[0;32m   1885\u001b[0m         \u001b[39m\"\u001b[39m\u001b[39mMust have equal len keys and value \u001b[39m\u001b[39m\"\u001b[39m\n\u001b[0;32m   1886\u001b[0m         \u001b[39m\"\u001b[39m\u001b[39mwhen setting with an iterable\u001b[39m\u001b[39m\"\u001b[39m\n\u001b[0;32m   1887\u001b[0m     )\n\u001b[0;32m   1889\u001b[0m \u001b[39melif\u001b[39;00m lplane_indexer \u001b[39m==\u001b[39m \u001b[39m0\u001b[39m \u001b[39mand\u001b[39;00m \u001b[39mlen\u001b[39m(value) \u001b[39m==\u001b[39m \u001b[39mlen\u001b[39m(\u001b[39mself\u001b[39m\u001b[39m.\u001b[39mobj\u001b[39m.\u001b[39mindex):\n\u001b[0;32m   1890\u001b[0m     \u001b[39m# We get here in one case via .loc with a all-False mask\u001b[39;00m\n\u001b[0;32m   1891\u001b[0m     \u001b[39mpass\u001b[39;00m\n",
            "\u001b[1;31mValueError\u001b[0m: Must have equal len keys and value when setting with an iterable"
          ]
        }
      ],
      "source": [
        "header(\"9. df.loc[:,'avg_low'] = np.array([5])\")\n",
        "df.loc[:,'avg_low'] = np.array([5])\n",
        "print(df.head())"
      ]
    },
    {
      "cell_type": "code",
      "execution_count": null,
      "metadata": {
        "id": "3_-4SGBXVkGc"
      },
      "outputs": [],
      "source": [
        "# Output:\n",
        "# --------------------------------------------------\n",
        "# [ 9. df.loc[:,'avg_low'] = np.array([5]) ]\n",
        "#   month  avg_high  avg_low  record_high  record_low  avg_precipitation\n",
        "# 0   Jan        58        5           74          22               2.95\n",
        "# 1   Feb        61        5           78          26               3.02\n",
        "# 2   Mar        65        5           84          25               2.34\n",
        "# 3   Apr        67        5           92          28               1.02\n",
        "# 4   May        71        5           98          35               0.48"
      ]
    },
    {
      "cell_type": "code",
      "execution_count": null,
      "metadata": {
        "id": "PyIspSpeVkGd"
      },
      "outputs": [
        {
          "name": "stdout",
          "output_type": "stream",
          "text": [
            "--------------------------------------------------\n",
            "[ 9. df['avg_day'] = (df.avg_low + df.avg_high) / 2 ]\n",
            "  month  avg_high  avg_low  record_high  record_low  avg_precipitation   \n",
            "0   Jan        58       42           74          22               2.95  \\\n",
            "1   Feb        61       45           78          26               3.02   \n",
            "2   Mar        65       48           84          25               2.34   \n",
            "3   Apr        67       50           92          28               1.02   \n",
            "4   May        71       53           98          35               0.48   \n",
            "\n",
            "   avg_day  \n",
            "0     50.0  \n",
            "1     53.0  \n",
            "2     56.5  \n",
            "3     58.5  \n",
            "4     62.0  \n"
          ]
        }
      ],
      "source": [
        "header(\"9. df['avg_day'] = (df.avg_low + df.avg_high) / 2\")\n",
        "df['avg_day'] = (df.avg_low + df.avg_high) / 2\n",
        "print(df.head())"
      ]
    },
    {
      "cell_type": "code",
      "execution_count": null,
      "metadata": {
        "id": "nP2Eq4VFVkGd"
      },
      "outputs": [],
      "source": [
        "# Output:\n",
        "# [ 9. df['avg_day'] = (df.avg_low + df.avg_high) / 2 ]\n",
        "#   month  avg_high  avg_low  record_high  record_low  avg_precipitation  \\\n",
        "# 0   Jan        58        5           74          22               2.95   \n",
        "# 1   Feb        61        5           78          26               3.02   \n",
        "# 2   Mar        65        5           84          25               2.34   \n",
        "# 3   Apr        67        5           92          28               1.02   \n",
        "# 4   May        71        5           98          35               0.48   "
      ]
    },
    {
      "cell_type": "code",
      "execution_count": null,
      "metadata": {
        "id": "TzleppLPVkGd"
      },
      "outputs": [],
      "source": [
        "#    avg_day  \n",
        "# 0     31.5  \n",
        "# 1     33.0  \n",
        "# 2     35.0  \n",
        "# 3     36.0  \n",
        "# 4     38.0  "
      ]
    },
    {
      "cell_type": "markdown",
      "metadata": {
        "id": "ohAtluRFVkGd"
      },
      "source": [
        "10. renaming columns"
      ]
    },
    {
      "cell_type": "code",
      "execution_count": null,
      "metadata": {
        "id": "AVUFpdjqVkGd"
      },
      "outputs": [
        {
          "name": "stdout",
          "output_type": "stream",
          "text": [
            "--------------------------------------------------\n",
            "[ 10. df.rename(columns = {'avg_precipitation':'avg_rain'}, inplace=True) ]\n",
            "  month  avg_high  avg_low  record_high  record_low  avg_rain  avg_day\n",
            "0   Jan        58       42           74          22      2.95     50.0\n",
            "1   Feb        61       45           78          26      3.02     53.0\n",
            "2   Mar        65       48           84          25      2.34     56.5\n",
            "3   Apr        67       50           92          28      1.02     58.5\n",
            "4   May        71       53           98          35      0.48     62.0\n"
          ]
        }
      ],
      "source": [
        "header(\"10. df.rename(columns = {'avg_precipitation':'avg_rain'}, inplace=True)\")\n",
        "df.rename(columns = {'avg_precipitation':'avg_rain'}, inplace=True)\t# rename 1 column\n",
        "print(df.head())"
      ]
    },
    {
      "cell_type": "code",
      "execution_count": null,
      "metadata": {
        "id": "QCxtJ6rYVkGd"
      },
      "outputs": [],
      "source": [
        "# Output:\n",
        "# --------------------------------------------------\n",
        "# [ 10. df.rename(columns = {'avg_precipitation':'avg_rain'}, inplace=True) ]\n",
        "#   month  avg_high  avg_low  record_high  record_low  avg_rain  avg_day\n",
        "# 0   Jan        58        5           74          22      2.95     31.5\n",
        "# 1   Feb        61        5           78          26      3.02     33.0\n",
        "# 2   Mar        65        5           84          25      2.34     35.0\n",
        "# 3   Apr        67        5           92          28      1.02     36.0\n",
        "# 4   May        71        5           98          35      0.48     38.0"
      ]
    },
    {
      "cell_type": "markdown",
      "metadata": {
        "id": "h0z44ymDVkGd"
      },
      "source": [
        "11. iterate a df"
      ]
    },
    {
      "cell_type": "code",
      "execution_count": null,
      "metadata": {
        "id": "T8UUWN9RVkGd"
      },
      "outputs": [
        {
          "name": "stdout",
          "output_type": "stream",
          "text": [
            "--------------------------------------------------\n",
            "[ 11. iterate rows of df with a for loop ]\n",
            "0 Jan 58\n",
            "1 Feb 61\n",
            "2 Mar 65\n",
            "3 Apr 67\n",
            "4 May 71\n",
            "5 Jun 75\n",
            "6 Jul 77\n",
            "7 Aug 77\n",
            "8 Sep 77\n",
            "9 Oct 73\n",
            "10 Nov 64\n",
            "11 Dec 58\n"
          ]
        }
      ],
      "source": [
        "header(\"11. iterate rows of df with a for loop\")\n",
        "for index, row in df.iterrows():\n",
        "    print (index, row[\"month\"], row[\"avg_high\"])"
      ]
    },
    {
      "cell_type": "code",
      "execution_count": null,
      "metadata": {
        "id": "SqbGTBOuVkGe"
      },
      "outputs": [],
      "source": [
        "# Output:\n",
        "# --------------------------------------------------\n",
        "# [ 11. iterate rows of df with a for loop ]\n",
        "# 0 Jan 58\n",
        "# 1 Feb 61\n",
        "# 2 Mar 65\n",
        "# 3 Apr 67\n",
        "# 4 May 71\n",
        "# 5 Jun 75\n",
        "# 6 Jul 77\n",
        "# 7 Aug 77\n",
        "# 8 Sep 77\n",
        "# 9 Oct 73\n",
        "# 10 Nov 64\n",
        "# 11 Dec 58"
      ]
    },
    {
      "cell_type": "markdown",
      "metadata": {
        "id": "0fpKUy4QVkGe"
      },
      "source": [
        "12. write to csv file"
      ]
    },
    {
      "cell_type": "code",
      "execution_count": null,
      "metadata": {
        "id": "A-soCv6TVkGe"
      },
      "outputs": [],
      "source": [
        "df.to_csv('updated_data.csv')"
      ]
    },
    {
      "cell_type": "code",
      "execution_count": null,
      "metadata": {
        "id": "JeheFsg3VkGe"
      },
      "outputs": [],
      "source": [
        "# ============================================================================\n",
        "# #Python's most popular 2D plotting library.\n",
        "# #Produce dozens of different types of plots and charts with just few lines of code.\n",
        "# #We can easly plot NumPy arrays, Pandas dataframe and Python List.\n",
        "# #The PyPlot module provides a MATLAB like interface."
      ]
    },
    {
      "cell_type": "markdown",
      "metadata": {
        "id": "0wyvJ8orVkGe"
      },
      "source": [
        "Matplotlib"
      ]
    },
    {
      "cell_type": "code",
      "execution_count": null,
      "metadata": {
        "id": "NiNG1eEmVkGe"
      },
      "outputs": [],
      "source": [
        "import numpy as np\n",
        "import pandas as pd\n",
        "import matplotlib.pyplot as plt"
      ]
    },
    {
      "cell_type": "markdown",
      "metadata": {
        "id": "T-aNCRZ-VkGe"
      },
      "source": [
        "1. simple plot with 4 numbers"
      ]
    },
    {
      "cell_type": "code",
      "execution_count": null,
      "metadata": {
        "id": "DzE0XC6-VkGf"
      },
      "outputs": [
        {
          "data": {
            "image/png": "[encoded data removed]",
            "text/plain": [
              "<Figure size 640x480 with 1 Axes>"
            ]
          },
          "metadata": {},
          "output_type": "display_data"
        }
      ],
      "source": [
        "plt.plot([1, 3, 2, 4])\n",
        "plt.show()"
      ]
    },
    {
      "cell_type": "markdown",
      "metadata": {
        "id": "hgPyckCAVkGf"
      },
      "source": [
        "2. points have x and y values; add title and axis labels"
      ]
    },
    {
      "cell_type": "code",
      "execution_count": null,
      "metadata": {
        "id": "4rkfbhWjVkGf"
      },
      "outputs": [
        {
          "data": {
            "image/png": "[encoded data removed]",
            "text/plain": [
              "<Figure size 640x480 with 1 Axes>"
            ]
          },
          "metadata": {},
          "output_type": "display_data"
        }
      ],
      "source": [
        "plt.plot([1, 2, 3, 4], [1, 4, 9, 16])\n",
        "plt.title('Test Plot', fontsize=8, color='g')\n",
        "plt.xlabel('number n')\n",
        "plt.ylabel('n^2')\n",
        "plt.show()"
      ]
    },
    {
      "cell_type": "markdown",
      "metadata": {
        "id": "FN3TDuc_VkGf"
      },
      "source": [
        "3. change figure size. plot red dots; set axis scales x: 0-6 and y: 0-20"
      ]
    },
    {
      "cell_type": "code",
      "execution_count": null,
      "metadata": {
        "id": "8hKMxnHxVkGf"
      },
      "outputs": [
        {
          "data": {
            "image/png": "[encoded data removed]",
            "text/plain": [
              "<Figure size 100x500 with 1 Axes>"
            ]
          },
          "metadata": {},
          "output_type": "display_data"
        }
      ],
      "source": [
        "plt.figure(figsize=(1,5))\t# 1 inch wide x 5 inches tall\n",
        "plt.plot([1, 2, 3, 4], [1, 4, 9, 16], 'ro') # red-o\n",
        "plt.axis([0, 6, 0, 20])\t\t\t    # [xmin, xmax, ymin, ymax]\n",
        "plt.annotate('square it', (3,6))\n",
        "plt.show()"
      ]
    },
    {
      "cell_type": "markdown",
      "metadata": {
        "id": "nyPPXafNVkGf"
      },
      "source": [
        "4. bar chart with four bars"
      ]
    },
    {
      "cell_type": "code",
      "execution_count": null,
      "metadata": {
        "id": "7lX2Hsy6VkGf"
      },
      "outputs": [
        {
          "data": {
            "image/png": "[encoded data removed]",
            "text/plain": [
              "<Figure size 640x480 with 1 Axes>"
            ]
          },
          "metadata": {},
          "output_type": "display_data"
        }
      ],
      "source": [
        "plt.clf()\t\t# clear figure\n",
        "x = np.arange(4)     \n",
        "y = [8.8, 5.2, 3.6, 5.9]\n",
        "plt.xticks(x, ('Ankit', 'Hans', 'Joe', 'Flaco'))\n",
        "plt.bar(x, y)\n",
        "# plt.bar(x, y, color='y')\n",
        "# plt.bar(x, y, color=['lime', 'r', 'k', 'tan'])\n",
        "plt.show()"
      ]
    },
    {
      "cell_type": "markdown",
      "metadata": {
        "id": "7SG1cyAZVkGf"
      },
      "source": [
        "5. two sets of 10 random dots plotted"
      ]
    },
    {
      "cell_type": "code",
      "execution_count": null,
      "metadata": {
        "id": "AUWHaI5IVkGg"
      },
      "outputs": [
        {
          "data": {
            "image/png": "[encoded data removed]",
            "text/plain": [
              "<Figure size 640x480 with 1 Axes>"
            ]
          },
          "metadata": {},
          "output_type": "display_data"
        }
      ],
      "source": [
        "d = {'Red O' : np.random.rand(10),\n",
        "     'Grn X' : np.random.rand(10)}\n",
        "df = pd.DataFrame(d)\n",
        "df.plot(style=['ro','gx'])\n",
        "plt.show()"
      ]
    },
    {
      "cell_type": "markdown",
      "metadata": {
        "id": "rlwSyKDnVkGg"
      },
      "source": [
        "6. random dots in a scatter"
      ]
    },
    {
      "cell_type": "code",
      "execution_count": null,
      "metadata": {
        "id": "PxI7mUeAVkGg"
      },
      "outputs": [
        {
          "data": {
            "image/png": "[encoded data removed]",
            "text/plain": [
              "<Figure size 640x480 with 1 Axes>"
            ]
          },
          "metadata": {},
          "output_type": "display_data"
        }
      ],
      "source": [
        "N = 50\n",
        "x = np.random.rand(N)\n",
        "y = np.random.rand(N)\n",
        "colors = np.random.rand(N)\n",
        "sizes = (30 * np.random.rand(N))**2  # 0 to 15 point radii\n",
        "plt.scatter(x, y, s=sizes, c=colors, alpha=0.5)\n",
        "plt.show()"
      ]
    },
    {
      "cell_type": "markdown",
      "metadata": {
        "id": "fImM_9dcVkGg"
      },
      "source": [
        "7. subplots"
      ]
    },
    {
      "cell_type": "code",
      "execution_count": null,
      "metadata": {
        "id": "PwVXE3xCVkGg"
      },
      "outputs": [
        {
          "data": {
            "image/png": "[encoded data removed]",
            "text/plain": [
              "<Figure size 640x480 with 4 Axes>"
            ]
          },
          "metadata": {},
          "output_type": "display_data"
        }
      ],
      "source": [
        "fig = plt.figure()\n",
        "fig.suptitle('My SubPlots')\n",
        "fig.add_subplot(221)   #top left\n",
        "plt.plot([np.log(n) for n in range(1,10)])\n",
        "fig.add_subplot(222, facecolor='y')   #top right\n",
        "fig.add_subplot(223)   #bottom left\n",
        "fig.add_subplot(224)   #bottom right \n",
        "plt.show()"
      ]
    },
    {
      "cell_type": "code",
      "execution_count": null,
      "metadata": {
        "id": "VxZ8JVVcVkGg"
      },
      "outputs": [
        {
          "data": {
            "text/plain": [
              "<matplotlib.collections.PathCollection at 0x278adde1490>"
            ]
          },
          "execution_count": 89,
          "metadata": {},
          "output_type": "execute_result"
        },
        {
          "data": {
            "image/png": "[encoded data removed]",
            "text/plain": [
              "<Figure size 640x480 with 2 Axes>"
            ]
          },
          "metadata": {},
          "output_type": "display_data"
        }
      ],
      "source": [
        "fig, plots = plt.subplots(2, sharex=True)\n",
        "fig.suptitle('Sharing X axis')\n",
        "x = range(0,200,5)\n",
        "y = [n**0.8 for n in x]\n",
        "plots[0].plot(x, y, color='r')\n",
        "plots[1].scatter(x, y)"
      ]
    },
    {
      "cell_type": "markdown",
      "metadata": {
        "id": "G0ZbVre9VkGg"
      },
      "source": [
        "8. save figure to image file"
      ]
    },
    {
      "cell_type": "code",
      "execution_count": null,
      "metadata": {
        "id": "IoDTJUzMVkGh"
      },
      "outputs": [
        {
          "data": {
            "image/png": "[encoded data removed]",
            "text/plain": [
              "<Figure size 400x300 with 1 Axes>"
            ]
          },
          "metadata": {},
          "output_type": "display_data"
        }
      ],
      "source": [
        "plt.figure(figsize=(4,3), dpi=100)\n",
        "plt.plot([245, 170, 148, 239, 161, 196, 112, 258])\n",
        "plt.axis([0, 7, 0, 300])\n",
        "plt.title('Flight Data')\n",
        "plt.xlabel('Speed')\n",
        "plt.savefig('Flights.png')\n",
        "plt.show()"
      ]
    }
  ],
  "metadata": {
    "colab": {
      "provenance": []
    },
    "kernelspec": {
      "display_name": "Python 3",
      "language": "python",
      "name": "python3"
    },
    "language_info": {
      "codemirror_mode": {
        "name": "ipython",
        "version": 3
      },
      "file_extension": ".py",
      "mimetype": "text/x-python",
      "name": "python",
      "nbconvert_exporter": "python",
      "pygments_lexer": "ipython3",
      "version": "3.11.3"
    }
  },
  "nbformat": 4,
  "nbformat_minor": 0
}
