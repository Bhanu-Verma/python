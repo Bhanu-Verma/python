{
 "cells": [
  {
   "cell_type": "code",
   "execution_count": 2,
   "metadata": {},
   "outputs": [],
   "source": [
    "import numpy as np"
   ]
  },
  {
   "cell_type": "code",
   "execution_count": 3,
   "metadata": {},
   "outputs": [
    {
     "name": "stdout",
     "output_type": "stream",
     "text": [
      "4.8\n",
      "4.8\n"
     ]
    }
   ],
   "source": [
    "#Making a single neural\n",
    "\n",
    "inputs = [1,2,3,2.5]\n",
    "weights = [0.2,0.8,-0.5,1.0]\n",
    "bias = 2\n",
    "\n",
    "output = sum(list(x*y for (x,y) in zip(inputs,weights))) + bias\n",
    "print(output)\n",
    "print(np.dot(weights,inputs)+bias)"
   ]
  },
  {
   "cell_type": "code",
   "execution_count": 4,
   "metadata": {},
   "outputs": [
    {
     "name": "stdout",
     "output_type": "stream",
     "text": [
      "[4.8   1.21  2.385]\n"
     ]
    }
   ],
   "source": [
    "# Making a layer of three neurals ---\n",
    "input = np.array([1,2,3,2.5])\n",
    "\n",
    "weight = np.array([\n",
    "    [0.2,0.8,-0.5,1.0],\n",
    "    [0.5,-0.91,0.26,-0.5],\n",
    "    [-0.26,-0.27,0.17,0.87]\n",
    "])\n",
    "\n",
    "biases = np.array([2,3,0.5])\n",
    "\n",
    "\n",
    "output = np.dot(weight,input)+biases\n",
    "print(output)"
   ]
  },
  {
   "cell_type": "code",
   "execution_count": 5,
   "metadata": {},
   "outputs": [
    {
     "data": {
      "text/plain": [
       "array([[ 4.8  ,  1.21 ,  2.385],\n",
       "       [ 8.9  , -1.81 ,  0.2  ],\n",
       "       [ 1.41 ,  1.051,  0.026]])"
      ]
     },
     "execution_count": 5,
     "metadata": {},
     "output_type": "execute_result"
    }
   ],
   "source": [
    "#now if we have different inputs for different neurals -- \n",
    "input2 = np.array([\n",
    "    [1,2,3,2.5],\n",
    "    [2,5,-1,2],\n",
    "    [-1.5,2.7,3.3,-0.8]\n",
    "])\n",
    "\n",
    "weight2 = np.array([\n",
    "    [0.2,0.8,-0.5,1.0],\n",
    "    [0.5,-0.91,0.26,-0.5],\n",
    "    [-0.26,-0.27,0.17,0.87]\n",
    "])\n",
    "\n",
    "biases2 = np.array([2,3,0.5])\n",
    "\n",
    "output2 = np.dot(input2,weight2.T) + biases2\n",
    "output2"
   ]
  },
  {
   "cell_type": "code",
   "execution_count": 7,
   "metadata": {},
   "outputs": [
    {
     "data": {
      "text/plain": [
       "array([[ 0.5031 , -1.04185, -2.03875],\n",
       "       [ 0.2434 , -2.7332 , -5.7633 ],\n",
       "       [-0.99314,  1.41254, -0.35655]])"
      ]
     },
     "execution_count": 7,
     "metadata": {},
     "output_type": "execute_result"
    }
   ],
   "source": [
    "#let's say after it we have layer3 for which output of layer2 acts as input --\n",
    "weight3 = np.array([\n",
    "    [0.1,-0.14,0.5],\n",
    "    [-0.5,0.12,-0.33],\n",
    "    [-0.44,0.73,-0.13]\n",
    "])\n",
    "\n",
    "biases3 = np.array([-1,2,-0.5])\n",
    "\n",
    "layer3_output = np.dot(output2,weight3.T) + biases3\n",
    "layer3_output"
   ]
  },
  {
   "cell_type": "code",
   "execution_count": 10,
   "metadata": {},
   "outputs": [
    {
     "name": "stdout",
     "output_type": "stream",
     "text": [
      "[[ 0.10758131  1.03983522  0.24462411  0.31821498  0.18851053]\n",
      " [-0.08349796  0.70846411  0.00293357  0.44701525  0.36360538]\n",
      " [-0.50763245  0.55688422  0.07987797 -0.34889573  0.04553042]]\n",
      "[[ 0.148296   -0.08397602]\n",
      " [ 0.14100315 -0.01340469]\n",
      " [ 0.20124979 -0.07290616]]\n"
     ]
    }
   ],
   "source": [
    "#in machine learning input data is mainly represented as X --\n",
    "np.random.seed(0)\n",
    "\n",
    "X = np.array([\n",
    "    [1,2,3,2.5],\n",
    "    [2,5,-1,2],\n",
    "    [-1.5,2.7,3.3,-0.8]\n",
    "])\n",
    "\n",
    "#Now THE GREAT OOPS comes into picture for first time\n",
    "#today first time it's being used let's explore what effect it puts so it is reputed so much\n",
    "\n",
    "class Layer_Dense:\n",
    "    def __init__(self, n_inputs, n_neurons) -> None:\n",
    "        #here notice the shape of weights if we take this shape we don't need to take a transpose every time\n",
    "        self.weights = 0.1 * np.random.randn(n_inputs,n_neurons)  #multiplication of 0.1 to handle values greater than 1\n",
    "        self.biases = np.zeros((1,n_neurons))\n",
    "    def forward(self, inputs):\n",
    "        self.output = np.dot(inputs,self.weights) + self.biases\n",
    "\n",
    "\n",
    "layer1 = Layer_Dense(4,5)\n",
    "layer2 = Layer_Dense(5,2)\n",
    "\n",
    "\n",
    "layer1.forward(X)\n",
    "print(layer1.output)\n",
    "\n",
    "layer2.forward(layer1.output)\n",
    "print(layer2.output)"
   ]
  },
  {
   "cell_type": "code",
   "execution_count": null,
   "metadata": {},
   "outputs": [],
   "source": [
    "#introducing activation functions ----\n",
    "#using relu function --\n",
    "\n",
    "#making a class for relu function ---\n",
    "\n",
    "class activation_RELU:\n",
    "    def forward(self,input):\n",
    "        self.ouput = np.maximum(self.input,0)\n",
    "\n",
    "for i in input:\n",
    "    output.append(max(0,i))\n",
    "\n"
   ]
  }
 ],
 "metadata": {
  "kernelspec": {
   "display_name": "Python 3",
   "language": "python",
   "name": "python3"
  },
  "language_info": {
   "codemirror_mode": {
    "name": "ipython",
    "version": 3
   },
   "file_extension": ".py",
   "mimetype": "text/x-python",
   "name": "python",
   "nbconvert_exporter": "python",
   "pygments_lexer": "ipython3",
   "version": "3.11.3"
  },
  "orig_nbformat": 4
 },
 "nbformat": 4,
 "nbformat_minor": 2
}
